{
 "cells": [
  {
   "cell_type": "code",
   "execution_count": 7,
   "metadata": {
    "collapsed": true
   },
   "outputs": [
    {
     "name": "stdout",
     "output_type": "stream",
     "text": [
      "The autoreload extension is already loaded. To reload it, use:\n",
      "  %reload_ext autoreload\n"
     ]
    }
   ],
   "source": [
    "%load_ext autoreload\n",
    "%autoreload 2"
   ]
  },
  {
   "cell_type": "markdown",
   "source": [
    "## MAR: Comparing with paper experiment"
   ],
   "metadata": {
    "collapsed": false
   }
  },
  {
   "cell_type": "code",
   "execution_count": null,
   "outputs": [],
   "source": [
    "import pandas as pd\n",
    "import json\n",
    "import seaborn as sns\n",
    "\n",
    "df = pd.DataFrame([], columns=('Simulator', 'RMSE'))\n",
    "\n",
    "with open('./paper_original_experiment/MAR.json') as f:\n",
    "        paper = json.load(f)\n",
    "df = df.concat({})"
   ],
   "metadata": {
    "collapsed": false
   }
  },
  {
   "cell_type": "markdown",
   "source": [
    "## MAR: Gradually increasing Z->R edges density"
   ],
   "metadata": {
    "collapsed": false
   }
  },
  {
   "cell_type": "code",
   "execution_count": 12,
   "outputs": [
    {
     "data": {
      "text/plain": "<AxesSubplot:xlabel='density', ylabel='RMSE'>"
     },
     "execution_count": 12,
     "metadata": {},
     "output_type": "execute_result"
    },
    {
     "data": {
      "text/plain": "<Figure size 432x288 with 1 Axes>",
      "image/png": "[encoded data removed]"
     },
     "metadata": {
      "needs_background": "light"
     },
     "output_type": "display_data"
    }
   ],
   "source": [
    "import pandas as pd\n",
    "import json\n",
    "import seaborn as sns\n",
    "\n",
    "df = pd.DataFrame([], columns=('RMSE', 'imputer', 'density'))\n",
    "for name, density in zip(\n",
    "        ['MAR_ZR_{}.json'.format(d) for d in ['00', '02', '04', '06', '08', '10']],\n",
    "        [0.0, 0.2, 0.4, 0.6, 0.8, 1.0]):\n",
    "    with open(name) as f:\n",
    "        report = json.load(f)\n",
    "    hp = pd.DataFrame({'imputer': ['hyperimpute']*10, 'density': [str(density)]*10, 'RMSE': report['hyperimpute']})\n",
    "    mf = pd.DataFrame({'imputer': ['missforest']*10, 'density': [str(density)]*10, 'RMSE': report['missforest']})\n",
    "    df = pd.concat([df, hp, mf], ignore_index=True)\n",
    "\n",
    "sns.boxplot(df, x='density', y='RMSE', hue='imputer')"
   ],
   "metadata": {
    "collapsed": false
   }
  }
 ],
 "metadata": {
  "kernelspec": {
   "display_name": "Python 3",
   "language": "python",
   "name": "python3"
  },
  "language_info": {
   "codemirror_mode": {
    "name": "ipython",
    "version": 2
   },
   "file_extension": ".py",
   "mimetype": "text/x-python",
   "name": "python",
   "nbconvert_exporter": "python",
   "pygments_lexer": "ipython2",
   "version": "2.7.6"
  }
 },
 "nbformat": 4,
 "nbformat_minor": 0
}
