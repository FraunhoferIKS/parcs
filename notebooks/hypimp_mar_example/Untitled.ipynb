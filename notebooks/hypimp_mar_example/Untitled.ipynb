{
 "cells": [
  {
   "cell_type": "code",
   "execution_count": 2,
   "id": "d80ad095",
   "metadata": {},
   "outputs": [],
   "source": [
    "%load_ext autoreload\n",
    "%autoreload 2"
   ]
  },
  {
   "cell_type": "markdown",
   "source": [
    "# Extending the MAR experiments for hyperimpute paper\n",
    "\n",
    "We study the paper _HymperImpute: Generalized Iterative Imputation with Automatic Model Selection_. In this paper, experiments are done by inducing artificial missingness (amputing) in a number of UCI datasets. In one scenario, they induce _MAR_ scenario by selecting a subset of variables as fully observed variables, and inducing missingness in the remaining ones using a logistic function of the fully observed variables. We describe the simulation details, and propose an extension based on PARCS functionality.\n",
    "\n",
    "- The subset of fully observed features is selected randomly. We do the same in PARCS\n",
    "- Rs are modeled by applying logistic function on linear models of fully observed variables. we can extend it in two ways: 1) randomize sigmoid parameters to deviate from standard sigmoid; 2) use gaussian RBF as another valid missing data model instead of sigmoid; 3) add nonlinear terms\n",
    "- missingness indicators do not affect each other i.e. no R->R edge exists, even though such graph is still MAR. Using PARCS, we can gradually increase the R->R graph density and obtain the results"
   ],
   "metadata": {
    "collapsed": false
   }
  },
  {
   "cell_type": "markdown",
   "source": [
    "## gradually increasing R"
   ],
   "metadata": {
    "collapsed": false
   }
  },
  {
   "cell_type": "code",
   "execution_count": 3,
   "outputs": [],
   "source": [
    "import pandas as pd\n",
    "\n",
    "data = pd.read_excel(\n",
    "    \"https://archive.ics.uci.edu/ml/machine-learning-databases/concrete/compressive/Concrete_Data.xls\"\n",
    ")\n",
    "# rename\n",
    "data.rename({\n",
    "    c: 'Z_{}'.format(i) for c, i in zip(data.columns, range(len(data.columns)))\n",
    "}, axis=1, inplace=True)\n",
    "\n",
    "# normalize\n",
    "for c in data.columns:\n",
    "    data[c] = (data[c] - data[c].mean()) / data[c].std()\n",
    "data = data.round(3)"
   ],
   "metadata": {
    "collapsed": false
   }
  },
  {
   "cell_type": "code",
   "execution_count": 4,
   "outputs": [],
   "source": [
    "data.to_csv('normalized_data.csv', index=False)"
   ],
   "metadata": {
    "collapsed": false
   }
  },
  {
   "cell_type": "markdown",
   "source": [
    "## preparing PARCS"
   ],
   "metadata": {
    "collapsed": false
   }
  },
  {
   "cell_type": "code",
   "execution_count": 35,
   "outputs": [],
   "source": [
    "from parcs.helpers.missing_data import R_adj_matrix, indicator_graph_description_file, m_graph_convert\n",
    "from parcs.graph_builder.randomizer import ConnectRandomizer\n",
    "from parcs.cdag.graph_objects import Graph\n",
    "import random as rand\n",
    "import numpy as np\n",
    "from time import time\n",
    "\n",
    "# 0. configs\n",
    "data = pd.read_csv('normalized_data.csv')\n",
    "N = 1000  # number of samples\n",
    "N_total = len(data.columns) # number of total variables\n",
    "N_O = 3  # number of fully observed variables\n",
    "miss_ratio = 0.3  # missing ratio in total\n",
    "\n",
    "def get_miss_dataset(density_R=None):\n",
    "    # 1. Write GDF for Z\n",
    "    gdf = '# nodes\\n'\n",
    "    for c in data.columns:\n",
    "        gdf += '{}: data(./normalized_data.csv)\\n'.format(c)\n",
    "    with open('gdf_Z.yml', 'w') as file:\n",
    "        file.write(gdf)\n",
    "    # 2. fully and partially observed variables\n",
    "    obs_v = rand.sample(['Z_{}'.format(i) for i in range(N_total)], N_O)\n",
    "    miss_v = list(set(data.columns) - set(obs_v))\n",
    "    total_v = sorted(obs_v + miss_v)\n",
    "    # 3. write GDF for R\n",
    "    r_mask = R_adj_matrix(size=N_total-N_O, density=density_R)\n",
    "    indicator_graph_description_file(\n",
    "        adj_matrix=r_mask,\n",
    "        node_names=miss_v,\n",
    "        prefix='R',\n",
    "        miss_ratio=miss_ratio,\n",
    "        supress_asteriks=False,\n",
    "        subscript_only=True,\n",
    "        file_dir='./gdf_R.yml'\n",
    "    )\n",
    "    # 4. randomize\n",
    "    rndz = ConnectRandomizer(\n",
    "    parent_graph_dir='gdf_Z.yml',\n",
    "    child_graph_dir='gdf_R.yml',\n",
    "    guideline_dir='guideline.yml',\n",
    "    adj_matrix_mask=pd.DataFrame(np.ones(shape=(N_total, N_total-N_O)),\n",
    "                                 index=data.columns,\n",
    "                                 columns=['R_{}'.format(i.split('_')[1]) for i in miss_v])\n",
    "    )\n",
    "    # 5. samples\n",
    "    nodes, edges = rndz.get_graph_params()\n",
    "    g = Graph(nodes=nodes, edges=edges)\n",
    "    s = g.sample(N)\n",
    "\n",
    "    # outputs\n",
    "    gt = s[total_v]\n",
    "    ds = m_graph_convert(s, missingness_prefix='R_', shared_subscript=True)\n",
    "    return gt, ds[total_v]"
   ],
   "metadata": {
    "collapsed": false
   }
  },
  {
   "cell_type": "code",
   "execution_count": 32,
   "outputs": [
    {
     "name": "stdout",
     "output_type": "stream",
     "text": [
      "0.0\n"
     ]
    },
    {
     "name": "stderr",
     "output_type": "stream",
     "text": [
      "/home/alireza/Desktop/projects/simulator/venv/lib/python3.8/site-packages/sklearn/linear_model/_sag.py:352: ConvergenceWarning: The max_iter was reached which means the coef_ did not converge\n",
      "  warnings.warn(\n"
     ]
    },
    {
     "name": "stdout",
     "output_type": "stream",
     "text": [
      "0.5\n",
      "1.0\n"
     ]
    },
    {
     "data": {
      "text/plain": "<Figure size 432x288 with 1 Axes>",
      "image/png": "[encoded data removed]"
     },
     "metadata": {
      "needs_background": "light"
     },
     "output_type": "display_data"
    }
   ],
   "source": [
    "from sklearn.impute import KNNImputer\n",
    "from matplotlib import pyplot as plt\n",
    "from hyperimpute.plugins.imputers import Imputers\n",
    "\n",
    "range_ = np.linspace(0, 1, 3)\n",
    "rmse_mean = []\n",
    "rmse_std = []\n",
    "for r_density in range_:\n",
    "    print(r_density)\n",
    "    temp = []\n",
    "    for it in range(10):\n",
    "        gt, ds = get_miss_dataset(density_R=r_density)\n",
    "        # kni = KNNImputer(n_neighbors=5)\n",
    "        hpi = Imputers().get(\n",
    "            'hyperimpute',\n",
    "            optimizer='hyperband',\n",
    "            classifier_seed=['logistic_regression'],\n",
    "            regression_seed=['linear_regression']\n",
    "        )\n",
    "        imp = hpi.fit_transform(ds)\n",
    "        temp.append(np.sqrt(np.sum(np.square(gt.values - imp.values))/N))\n",
    "    rmse_mean.append(np.mean(temp))\n",
    "    rmse_std.append(np.std(temp))\n",
    "\n",
    "plt.errorbar(range_, rmse_mean, rmse_std, marker='^')\n",
    "plt.show()"
   ],
   "metadata": {
    "collapsed": false
   }
  },
  {
   "cell_type": "code",
   "execution_count": 36,
   "outputs": [
    {
     "name": "stdout",
     "output_type": "stream",
     "text": [
      "0.0\n"
     ]
    },
    {
     "name": "stderr",
     "output_type": "stream",
     "text": [
      "/home/alireza/Desktop/projects/simulator/venv/lib/python3.8/site-packages/sklearn/linear_model/_sag.py:352: ConvergenceWarning: The max_iter was reached which means the coef_ did not converge\n",
      "  warnings.warn(\n",
      "/home/alireza/Desktop/projects/simulator/venv/lib/python3.8/site-packages/sklearn/linear_model/_sag.py:352: ConvergenceWarning: The max_iter was reached which means the coef_ did not converge\n",
      "  warnings.warn(\n",
      "/home/alireza/Desktop/projects/simulator/venv/lib/python3.8/site-packages/sklearn/linear_model/_sag.py:352: ConvergenceWarning: The max_iter was reached which means the coef_ did not converge\n",
      "  warnings.warn(\n"
     ]
    },
    {
     "name": "stdout",
     "output_type": "stream",
     "text": [
      "1.0\n"
     ]
    },
    {
     "name": "stderr",
     "output_type": "stream",
     "text": [
      "/home/alireza/Desktop/projects/simulator/venv/lib/python3.8/site-packages/sklearn/linear_model/_sag.py:352: ConvergenceWarning: The max_iter was reached which means the coef_ did not converge\n",
      "  warnings.warn(\n",
      "/home/alireza/Desktop/projects/simulator/venv/lib/python3.8/site-packages/sklearn/linear_model/_sag.py:352: ConvergenceWarning: The max_iter was reached which means the coef_ did not converge\n",
      "  warnings.warn(\n",
      "/home/alireza/Desktop/projects/simulator/venv/lib/python3.8/site-packages/sklearn/linear_model/_sag.py:352: ConvergenceWarning: The max_iter was reached which means the coef_ did not converge\n",
      "  warnings.warn(\n",
      "/home/alireza/Desktop/projects/simulator/venv/lib/python3.8/site-packages/sklearn/linear_model/_sag.py:352: ConvergenceWarning: The max_iter was reached which means the coef_ did not converge\n",
      "  warnings.warn(\n",
      "/home/alireza/Desktop/projects/simulator/venv/lib/python3.8/site-packages/sklearn/linear_model/_sag.py:352: ConvergenceWarning: The max_iter was reached which means the coef_ did not converge\n",
      "  warnings.warn(\n",
      "/home/alireza/Desktop/projects/simulator/venv/lib/python3.8/site-packages/sklearn/linear_model/_sag.py:352: ConvergenceWarning: The max_iter was reached which means the coef_ did not converge\n",
      "  warnings.warn(\n",
      "/home/alireza/Desktop/projects/simulator/venv/lib/python3.8/site-packages/sklearn/linear_model/_sag.py:352: ConvergenceWarning: The max_iter was reached which means the coef_ did not converge\n",
      "  warnings.warn(\n",
      "/home/alireza/Desktop/projects/simulator/venv/lib/python3.8/site-packages/sklearn/linear_model/_sag.py:352: ConvergenceWarning: The max_iter was reached which means the coef_ did not converge\n",
      "  warnings.warn(\n",
      "/home/alireza/Desktop/projects/simulator/venv/lib/python3.8/site-packages/sklearn/linear_model/_sag.py:352: ConvergenceWarning: The max_iter was reached which means the coef_ did not converge\n",
      "  warnings.warn(\n",
      "/home/alireza/Desktop/projects/simulator/venv/lib/python3.8/site-packages/sklearn/linear_model/_sag.py:352: ConvergenceWarning: The max_iter was reached which means the coef_ did not converge\n",
      "  warnings.warn(\n",
      "/home/alireza/Desktop/projects/simulator/venv/lib/python3.8/site-packages/sklearn/linear_model/_sag.py:352: ConvergenceWarning: The max_iter was reached which means the coef_ did not converge\n",
      "  warnings.warn(\n"
     ]
    },
    {
     "data": {
      "text/plain": "<Figure size 432x288 with 1 Axes>",
      "image/png": "[encoded data removed]"
     },
     "metadata": {
      "needs_background": "light"
     },
     "output_type": "display_data"
    }
   ],
   "source": [
    "from sklearn.impute import KNNImputer\n",
    "from matplotlib import pyplot as plt\n",
    "from hyperimpute.plugins.imputers import Imputers\n",
    "\n",
    "range_ = np.linspace(0, 1, 2)\n",
    "rmse_mean = []\n",
    "rmse_std = []\n",
    "for r_density in range_:\n",
    "    print(r_density)\n",
    "    temp = []\n",
    "    for it in range(10):\n",
    "        gt, ds = get_miss_dataset(density_R=r_density)\n",
    "        # kni = KNNImputer(n_neighbors=5)\n",
    "        hpi = Imputers().get(\n",
    "            'hyperimpute',\n",
    "            optimizer='hyperband',\n",
    "            classifier_seed=['logistic_regression'],\n",
    "            regression_seed=['linear_regression']\n",
    "        )\n",
    "        imp = hpi.fit_transform(ds)\n",
    "        temp.append(np.sqrt(np.sum(np.square(gt.values - imp.values))/N))\n",
    "    rmse_mean.append(np.mean(temp))\n",
    "    rmse_std.append(np.std(temp))\n",
    "\n",
    "plt.errorbar(range_, rmse_mean, rmse_std, marker='^')\n",
    "plt.show()"
   ],
   "metadata": {
    "collapsed": false
   }
  }
 ],
 "metadata": {
  "kernelspec": {
   "display_name": "Python 3 (ipykernel)",
   "language": "python",
   "name": "python3"
  },
  "language_info": {
   "codemirror_mode": {
    "name": "ipython",
    "version": 3
   },
   "file_extension": ".py",
   "mimetype": "text/x-python",
   "name": "python",
   "nbconvert_exporter": "python",
   "pygments_lexer": "ipython3",
   "version": "3.8.10"
  }
 },
 "nbformat": 4,
 "nbformat_minor": 5
}
