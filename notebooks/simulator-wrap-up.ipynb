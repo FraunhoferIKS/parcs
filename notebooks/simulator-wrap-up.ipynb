{
 "cells": [
  {
   "cell_type": "code",
   "execution_count": 1,
   "metadata": {
    "pycharm": {
     "name": "#%%\n"
    }
   },
   "outputs": [],
   "source": [
    "%load_ext autoreload\n",
    "%autoreload 2"
   ]
  },
  {
   "cell_type": "code",
   "execution_count": 2,
   "metadata": {
    "pycharm": {
     "name": "#%%\n"
    }
   },
   "outputs": [],
   "source": [
    "import numpy as np\n",
    "import pandas as pd\n",
    "from matplotlib import pyplot as plt"
   ]
  },
  {
   "cell_type": "markdown",
   "metadata": {
    "pycharm": {
     "name": "#%% md\n"
    }
   },
   "source": [
    "# Simulator\n",
    "\n",
    "The SEM simulator 4 building blocks: _nodes, edges, graphs, parameterizers_\n",
    "\n",
    "1. _nodes_ defined by i) name, ii) parents, iii) state funtion, iv) output function\n",
    "2. _edges_ defined by i) parent-child node pair; ii) edge function.\n",
    "3. _graphs_ defined by its set of nodes and edges (via an adjacency matrix)\n",
    "4. Functions require paremters (e.g. coefficients of a linear state function). _Parameterizers_ generate a set of simulation parameters at each run. Via parameterizers, we apply simulation partial-restrictions, while randomizing the rest (e.g. generate normally distributed data via any linear model coefficients, or treatment interactions with any arbitrary edge function) "
   ]
  },
  {
   "cell_type": "markdown",
   "metadata": {
    "pycharm": {
     "name": "#%% md\n"
    }
   },
   "source": [
    "## Nodes\n",
    "\n",
    "Create a source node:"
   ]
  },
  {
   "cell_type": "code",
   "execution_count": 3,
   "metadata": {
    "pycharm": {
     "name": "#%%\n"
    }
   },
   "outputs": [
    {
     "data": {
      "text/html": [
       "<div>\n",
       "<style scoped>\n",
       "    .dataframe tbody tr th:only-of-type {\n",
       "        vertical-align: middle;\n",
       "    }\n",
       "\n",
       "    .dataframe tbody tr th {\n",
       "        vertical-align: top;\n",
       "    }\n",
       "\n",
       "    .dataframe thead th {\n",
       "        text-align: right;\n",
       "    }\n",
       "</style>\n",
       "<table border=\"1\" class=\"dataframe\">\n",
       "  <thead>\n",
       "    <tr style=\"text-align: right;\">\n",
       "      <th></th>\n",
       "      <th>X1</th>\n",
       "    </tr>\n",
       "  </thead>\n",
       "  <tbody>\n",
       "    <tr>\n",
       "      <th>0</th>\n",
       "      <td>-1.461278</td>\n",
       "    </tr>\n",
       "    <tr>\n",
       "      <th>1</th>\n",
       "      <td>1.038900</td>\n",
       "    </tr>\n",
       "    <tr>\n",
       "      <th>2</th>\n",
       "      <td>0.158257</td>\n",
       "    </tr>\n",
       "    <tr>\n",
       "      <th>3</th>\n",
       "      <td>0.280925</td>\n",
       "    </tr>\n",
       "    <tr>\n",
       "      <th>4</th>\n",
       "      <td>0.320859</td>\n",
       "    </tr>\n",
       "  </tbody>\n",
       "</table>\n",
       "</div>"
      ],
      "text/plain": [
       "         X1\n",
       "0 -1.461278\n",
       "1  1.038900\n",
       "2  0.158257\n",
       "3  0.280925\n",
       "4  0.320859"
      ]
     },
     "execution_count": 3,
     "metadata": {},
     "output_type": "execute_result"
    }
   ],
   "source": [
    "from rad_sim.sem.graph_objects import Node\n",
    "\n",
    "# instantiate\n",
    "n1 = Node(name='X1', parents=[])\n",
    "# set output function (dtype)\n",
    "n1.set_output_function(\n",
    "    function_name='gaussian_noise'\n",
    ").set_output_params(\n",
    "    params={'rho': 0}\n",
    ")\n",
    "# sample: size is determined because it's source node\n",
    "n1.calc_state(size=1000)\n",
    "n1.calc_output()\n",
    "\n",
    "data = pd.DataFrame({'X1': n1.value['output']})\n",
    "# printing first 5 rows\n",
    "data.head()"
   ]
  },
  {
   "cell_type": "code",
   "execution_count": 4,
   "metadata": {
    "pycharm": {
     "name": "#%%\n"
    }
   },
   "outputs": [
    {
     "data": {
      "text/html": [
       "<div>\n",
       "<style scoped>\n",
       "    .dataframe tbody tr th:only-of-type {\n",
       "        vertical-align: middle;\n",
       "    }\n",
       "\n",
       "    .dataframe tbody tr th {\n",
       "        vertical-align: top;\n",
       "    }\n",
       "\n",
       "    .dataframe thead th {\n",
       "        text-align: right;\n",
       "    }\n",
       "</style>\n",
       "<table border=\"1\" class=\"dataframe\">\n",
       "  <thead>\n",
       "    <tr style=\"text-align: right;\">\n",
       "      <th></th>\n",
       "      <th>X1</th>\n",
       "      <th>X2</th>\n",
       "    </tr>\n",
       "  </thead>\n",
       "  <tbody>\n",
       "    <tr>\n",
       "      <th>0</th>\n",
       "      <td>-1.461278</td>\n",
       "      <td>0</td>\n",
       "    </tr>\n",
       "    <tr>\n",
       "      <th>1</th>\n",
       "      <td>1.038900</td>\n",
       "      <td>0</td>\n",
       "    </tr>\n",
       "    <tr>\n",
       "      <th>2</th>\n",
       "      <td>0.158257</td>\n",
       "      <td>0</td>\n",
       "    </tr>\n",
       "    <tr>\n",
       "      <th>3</th>\n",
       "      <td>0.280925</td>\n",
       "      <td>1</td>\n",
       "    </tr>\n",
       "    <tr>\n",
       "      <th>4</th>\n",
       "      <td>0.320859</td>\n",
       "      <td>1</td>\n",
       "    </tr>\n",
       "  </tbody>\n",
       "</table>\n",
       "</div>"
      ],
      "text/plain": [
       "         X1  X2\n",
       "0 -1.461278   0\n",
       "1  1.038900   0\n",
       "2  0.158257   0\n",
       "3  0.280925   1\n",
       "4  0.320859   1"
      ]
     },
     "execution_count": 4,
     "metadata": {},
     "output_type": "execute_result"
    }
   ],
   "source": [
    "# instantiate\n",
    "n2 = Node(name='X2', parents=['X1'])\n",
    "# set state function\n",
    "n2.set_state_function(\n",
    "    function_name='linear'\n",
    ").set_state_params(\n",
    "    params={'coefs':[1.5]}\n",
    ")\n",
    "# set output function (dtype)\n",
    "n2.set_output_function(\n",
    "    function_name='bernoulli'\n",
    ").set_output_params(\n",
    "    params={'gamma': 1, 'rho':0}\n",
    ")\n",
    "# sample: size is determined because it's source node\n",
    "n2.calc_state(inputs=data)\n",
    "n2.calc_output()\n",
    "\n",
    "data['X2'] = n2.value['output']\n",
    "# printing first 5 rows\n",
    "data.head()"
   ]
  },
  {
   "cell_type": "markdown",
   "metadata": {
    "pycharm": {
     "name": "#%% md\n"
    }
   },
   "source": [
    "visualize (for the fun of it)"
   ]
  },
  {
   "cell_type": "code",
   "execution_count": 5,
   "metadata": {
    "pycharm": {
     "name": "#%%\n"
    }
   },
   "outputs": [
    {
     "data": {
      "image/png": "[encoded data removed]",
      "text/plain": [
       "<Figure size 432x288 with 1 Axes>"
      ]
     },
     "metadata": {
      "needs_background": "light"
     },
     "output_type": "display_data"
    }
   ],
   "source": [
    "plt.hist(data[data.X2==1].X1, alpha=0.3, label='X2=1')\n",
    "plt.hist(data[data.X2==0].X1, alpha=0.3, label='X2=0')\n",
    "plt.legend()\n",
    "plt.show()"
   ]
  },
  {
   "cell_type": "markdown",
   "source": [
    "## Edges\n",
    "\n",
    "create and edge between `X1` and `X2`: output of `X1` passes through edge before going to `X2`"
   ],
   "metadata": {
    "collapsed": false,
    "pycharm": {
     "name": "#%% md\n"
    }
   }
  },
  {
   "cell_type": "code",
   "execution_count": null,
   "outputs": [],
   "source": [
    "from rad_sim.sem.graph_objects import Edge\n",
    "\n",
    "# instantitate\n",
    "e1 = Edge(parent='X1', child='X2')\n",
    "# set function and params\n",
    "e1.set_function(\n",
    "    function_name='sigmoid'\n",
    ").set_function_params(\n",
    "    function_params={'alpha': 1, 'beta': 1.9, 'gamma': 1, 'tau': 1, 'rho': 0}\n",
    ")\n",
    "# map\n",
    "edge_output = e1.map(array=data['X1'])\n",
    "\n",
    "# give this as the input to X2\n",
    "n2.calc_state(\n",
    "    inputs=pd.DataFrame({'X1': edge_output})\n",
    ")\n",
    "data['X2'] = n2.calc_output()"
   ],
   "metadata": {
    "collapsed": false,
    "pycharm": {
     "name": "#%%\n"
    }
   }
  },
  {
   "cell_type": "markdown",
   "source": [
    "plot histogram again"
   ],
   "metadata": {
    "collapsed": false,
    "pycharm": {
     "name": "#%% md\n"
    }
   }
  },
  {
   "cell_type": "code",
   "execution_count": null,
   "outputs": [],
   "source": [
    "plt.hist(data[data.X2==1].X1, alpha=0.3, label='X2=1')\n",
    "plt.hist(data[data.X2==0].X1, alpha=0.3, label='X2=0')\n",
    "plt.legend()\n",
    "plt.show()"
   ],
   "metadata": {
    "collapsed": false,
    "pycharm": {
     "name": "#%%\n"
    }
   }
  },
  {
   "cell_type": "markdown",
   "source": [
    "## Graphs and parameterizers\n",
    "\n",
    "Graphs simulate nodes and edges given an adjacency matrix and the set of parameters"
   ],
   "metadata": {
    "collapsed": false,
    "pycharm": {
     "name": "#%% md\n"
    }
   }
  },
  {
   "cell_type": "code",
   "execution_count": null,
   "outputs": [],
   "source": [
    "from rad_sim.sem.graph_objects import BaseGraph\n",
    "\n",
    "graph = BaseGraph()\n",
    "graph.set_nodes(nodes_list=[\n",
    "    {\n",
    "        'name': 'A1',\n",
    "        'parents': [],\n",
    "        'output_type': 'continuous',\n",
    "        'state_function': 'linear',\n",
    "        'output_function': 'gaussian_noise',\n",
    "        'state_params': {},\n",
    "        'output_params': {'rho': 0.02}\n",
    "    },\n",
    "    {\n",
    "        'name': 'A2',\n",
    "        'parents': [],\n",
    "        'output_type': 'continuous',\n",
    "        'state_function': 'linear',\n",
    "        'output_function': 'gaussian_noise',\n",
    "        'state_params': {},\n",
    "        'output_params': {'rho': 0.02}\n",
    "    },\n",
    "    {\n",
    "        'name': 'B1',\n",
    "        'parents': ['A1', 'A2'],\n",
    "        'output_type': 'binary',\n",
    "        'state_function': 'linear',\n",
    "        'output_function': 'bernoulli',\n",
    "        'state_params': {'coefs': np.array([1, 1])},\n",
    "        'output_params': {'rho': 0.02, 'gamma': 0}\n",
    "    }\n",
    "])\n",
    "edge_param = {'alpha': 1, 'beta': 0, 'gamma': 0, 'tau': 1, 'rho': 0.02}\n",
    "graph.set_edges(\n",
    "    adj_matrix=pd.DataFrame(\n",
    "        [\n",
    "            [0, 0, 1],\n",
    "            [0, 0, 1],\n",
    "            [0, 0, 0]\n",
    "        ],\n",
    "        columns=['A1', 'A2', 'B1'],\n",
    "        index=['A1', 'A2', 'B1']\n",
    "    ),\n",
    "    function_specs={\n",
    "        'A1 -> B1': {'function_name': 'sigmoid', 'function_params': edge_param},\n",
    "        'A2 -> B1': {'function_name': 'sigmoid', 'function_params': edge_param}\n",
    "    }\n",
    ")\n",
    "data = graph.sample(size=300)\n",
    "print(data)"
   ],
   "metadata": {
    "collapsed": false,
    "pycharm": {
     "name": "#%%\n"
    }
   }
  },
  {
   "cell_type": "markdown",
   "source": [
    "## Graphs and parameterizers\n",
    "\n",
    "Graphs simulate nodes and edges given an adjacency matrix and the set of parameters"
   ],
   "metadata": {
    "collapsed": false,
    "pycharm": {
     "name": "#%% md\n"
    }
   }
  },
  {
   "cell_type": "code",
   "execution_count": null,
   "outputs": [],
   "source": [
    "from rad_sim.sem.graph_objects import BaseGraph\n",
    "\n",
    "graph = BaseGraph()\n",
    "graph.set_nodes(nodes_list=[\n",
    "    {\n",
    "        'name': 'A1',\n",
    "        'parents': [],\n",
    "        'output_type': 'continuous',\n",
    "        'state_function': 'linear',\n",
    "        'output_function': 'gaussian_noise',\n",
    "        'state_params': {},\n",
    "        'output_params': {'rho': 0.02}\n",
    "    },\n",
    "    {\n",
    "        'name': 'A2',\n",
    "        'parents': [],\n",
    "        'output_type': 'continuous',\n",
    "        'state_function': 'linear',\n",
    "        'output_function': 'gaussian_noise',\n",
    "        'state_params': {},\n",
    "        'output_params': {'rho': 0.02}\n",
    "    },\n",
    "    {\n",
    "        'name': 'B1',\n",
    "        'parents': ['A1', 'A2'],\n",
    "        'output_type': 'binary',\n",
    "        'state_function': 'linear',\n",
    "        'output_function': 'bernoulli',\n",
    "        'state_params': {'coefs': np.array([1, 1])},\n",
    "        'output_params': {'rho': 0.02, 'gamma': 0}\n",
    "    }\n",
    "])\n",
    "edge_param = {'alpha': 1, 'beta': 0, 'gamma': 0, 'tau': 1, 'rho': 0.02}\n",
    "graph.set_edges(\n",
    "    adj_matrix=pd.DataFrame(\n",
    "        [\n",
    "            [0, 0, 1],\n",
    "            [0, 0, 1],\n",
    "            [0, 0, 0]\n",
    "        ],\n",
    "        columns=['A1', 'A2', 'B1'],\n",
    "        index=['A1', 'A2', 'B1']\n",
    "    ),\n",
    "    function_specs={\n",
    "        'A1 -> B1': {'function_name': 'sigmoid', 'function_params': edge_param},\n",
    "        'A2 -> B1': {'function_name': 'sigmoid', 'function_params': edge_param}\n",
    "    }\n",
    ")\n",
    "data = graph.sample(size=300)\n",
    "print(data)"
   ],
   "metadata": {
    "collapsed": false,
    "pycharm": {
     "name": "#%%\n"
    }
   }
  },
  {
   "cell_type": "markdown",
   "source": [
    "## remarks\n",
    "\n",
    "- for source nodes, standard gaussian normal is sampled from.\n",
    "- state functions: _linear, linear+interactions_.\n",
    "- output functions: _continuous with Gaussian noise, bernoulli_. any type of data can be simulated using state value\n",
    "- edge functions are: _identity (no change), sigmoid and Gaussian RBF (for continuous input), Beta noise (for binary input)_"
   ],
   "metadata": {
    "collapsed": false,
    "pycharm": {
     "name": "#%% md\n"
    }
   }
  }
 ],
 "metadata": {
  "kernelspec": {
   "display_name": "Python 3 (ipykernel)",
   "language": "python",
   "name": "python3"
  },
  "language_info": {
   "codemirror_mode": {
    "name": "ipython",
    "version": 3
   },
   "file_extension": ".py",
   "mimetype": "text/x-python",
   "name": "python",
   "nbconvert_exporter": "python",
   "pygments_lexer": "ipython3",
   "version": "3.8.10"
  }
 },
 "nbformat": 4,
 "nbformat_minor": 4
}