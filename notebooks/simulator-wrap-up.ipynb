{
 "cells": [
  {
   "cell_type": "code",
   "execution_count": 2,
   "metadata": {
    "pycharm": {
     "name": "#%%\n"
    }
   },
   "outputs": [
    {
     "name": "stdout",
     "output_type": "stream",
     "text": [
      "The autoreload extension is already loaded. To reload it, use:\n",
      "  %reload_ext autoreload\n"
     ]
    }
   ],
   "source": [
    "%load_ext autoreload\n",
    "%autoreload 2"
   ]
  },
  {
   "cell_type": "code",
   "execution_count": 3,
   "metadata": {
    "pycharm": {
     "name": "#%%\n"
    }
   },
   "outputs": [],
   "source": [
    "import numpy as np\n",
    "import pandas as pd\n",
    "from matplotlib import pyplot as plt"
   ]
  },
  {
   "cell_type": "markdown",
   "metadata": {
    "pycharm": {
     "name": "#%% md\n"
    }
   },
   "source": [
    "# Simulator\n",
    "\n",
    "The SEM simulator 4 building blocks: _nodes, edges, graphs, parameterizers_\n",
    "\n",
    "1. _nodes_ defined by i) name, ii) parents, iii) state funtion, iv) output function\n",
    "2. _edges_ defined by i) parent-child node pair; ii) edge function.\n",
    "3. _graphs_ defined by its set of nodes and edges (via an adjacency matrix)\n",
    "4. Functions require paremters (e.g. coefficients of a linear state function). _Parameterizers_ generate a set of simulation parameters at each run. Via parameterizers, we apply simulation partial-restrictions, while randomizing the rest (e.g. generate normally distributed data via any linear model coefficients, or treatment interactions with any arbitrary edge function) "
   ]
  },
  {
   "cell_type": "markdown",
   "metadata": {
    "pycharm": {
     "name": "#%% md\n"
    }
   },
   "source": [
    "## Nodes\n",
    "\n",
    "Create a source node:"
   ]
  },
  {
   "cell_type": "code",
   "execution_count": 4,
   "metadata": {
    "pycharm": {
     "name": "#%%\n"
    }
   },
   "outputs": [
    {
     "data": {
      "text/html": [
       "<div>\n",
       "<style scoped>\n",
       "    .dataframe tbody tr th:only-of-type {\n",
       "        vertical-align: middle;\n",
       "    }\n",
       "\n",
       "    .dataframe tbody tr th {\n",
       "        vertical-align: top;\n",
       "    }\n",
       "\n",
       "    .dataframe thead th {\n",
       "        text-align: right;\n",
       "    }\n",
       "</style>\n",
       "<table border=\"1\" class=\"dataframe\">\n",
       "  <thead>\n",
       "    <tr style=\"text-align: right;\">\n",
       "      <th></th>\n",
       "      <th>X1</th>\n",
       "    </tr>\n",
       "  </thead>\n",
       "  <tbody>\n",
       "    <tr>\n",
       "      <th>0</th>\n",
       "      <td>-0.067821</td>\n",
       "    </tr>\n",
       "    <tr>\n",
       "      <th>1</th>\n",
       "      <td>-0.611097</td>\n",
       "    </tr>\n",
       "    <tr>\n",
       "      <th>2</th>\n",
       "      <td>1.222093</td>\n",
       "    </tr>\n",
       "    <tr>\n",
       "      <th>3</th>\n",
       "      <td>1.404958</td>\n",
       "    </tr>\n",
       "    <tr>\n",
       "      <th>4</th>\n",
       "      <td>0.031833</td>\n",
       "    </tr>\n",
       "  </tbody>\n",
       "</table>\n",
       "</div>"
      ],
      "text/plain": [
       "         X1\n",
       "0 -0.067821\n",
       "1 -0.611097\n",
       "2  1.222093\n",
       "3  1.404958\n",
       "4  0.031833"
      ]
     },
     "execution_count": 4,
     "metadata": {},
     "output_type": "execute_result"
    }
   ],
   "source": [
    "from rad_sim.sem.graph_objects import Node\n",
    "\n",
    "# instantiate\n",
    "n1 = Node(name='X1', parents=[])\n",
    "# set output function (dtype)\n",
    "n1.set_output_function(\n",
    "    function_name='gaussian_noise'\n",
    ").set_output_params(\n",
    "    params={'rho': 0}\n",
    ")\n",
    "# sample: size is determined because it's source node\n",
    "n1.calc_state(size=1000)\n",
    "n1.calc_output()\n",
    "\n",
    "data = pd.DataFrame({'X1': n1.value['output']})\n",
    "# printing first 5 rows\n",
    "data.head()"
   ]
  },
  {
   "cell_type": "markdown",
   "metadata": {
    "pycharm": {
     "name": "#%% md\n"
    }
   },
   "source": [
    "**Note** for source nodes, standard gaussian normal is sampled from.\n",
    "\n",
    "create a child node (binary)"
   ]
  },
  {
   "cell_type": "code",
   "execution_count": 5,
   "metadata": {
    "pycharm": {
     "name": "#%%\n"
    }
   },
   "outputs": [
    {
     "data": {
      "text/html": [
       "<div>\n",
       "<style scoped>\n",
       "    .dataframe tbody tr th:only-of-type {\n",
       "        vertical-align: middle;\n",
       "    }\n",
       "\n",
       "    .dataframe tbody tr th {\n",
       "        vertical-align: top;\n",
       "    }\n",
       "\n",
       "    .dataframe thead th {\n",
       "        text-align: right;\n",
       "    }\n",
       "</style>\n",
       "<table border=\"1\" class=\"dataframe\">\n",
       "  <thead>\n",
       "    <tr style=\"text-align: right;\">\n",
       "      <th></th>\n",
       "      <th>X1</th>\n",
       "      <th>X2</th>\n",
       "    </tr>\n",
       "  </thead>\n",
       "  <tbody>\n",
       "    <tr>\n",
       "      <th>0</th>\n",
       "      <td>-0.067821</td>\n",
       "      <td>1</td>\n",
       "    </tr>\n",
       "    <tr>\n",
       "      <th>1</th>\n",
       "      <td>-0.611097</td>\n",
       "      <td>0</td>\n",
       "    </tr>\n",
       "    <tr>\n",
       "      <th>2</th>\n",
       "      <td>1.222093</td>\n",
       "      <td>1</td>\n",
       "    </tr>\n",
       "    <tr>\n",
       "      <th>3</th>\n",
       "      <td>1.404958</td>\n",
       "      <td>1</td>\n",
       "    </tr>\n",
       "    <tr>\n",
       "      <th>4</th>\n",
       "      <td>0.031833</td>\n",
       "      <td>1</td>\n",
       "    </tr>\n",
       "  </tbody>\n",
       "</table>\n",
       "</div>"
      ],
      "text/plain": [
       "         X1  X2\n",
       "0 -0.067821   1\n",
       "1 -0.611097   0\n",
       "2  1.222093   1\n",
       "3  1.404958   1\n",
       "4  0.031833   1"
      ]
     },
     "execution_count": 5,
     "metadata": {},
     "output_type": "execute_result"
    }
   ],
   "source": [
    "# instantiate\n",
    "n2 = Node(name='X2', parents=['X1'])\n",
    "# set state function\n",
    "n2.set_state_function(\n",
    "    function_name='linear'\n",
    ").set_state_params(\n",
    "    params={'coefs':[1.5]}\n",
    ")\n",
    "# set output function (dtype)\n",
    "n2.set_output_function(\n",
    "    function_name='bernoulli'\n",
    ").set_output_params(\n",
    "    params={'gamma': 1, 'rho':0}\n",
    ")\n",
    "# sample: size is determined because it's source node\n",
    "n2.calc_state(inputs=data)\n",
    "n2.calc_output()\n",
    "\n",
    "data['X2'] = n2.value['output']\n",
    "# printing first 5 rows\n",
    "data.head()"
   ]
  },
  {
   "cell_type": "markdown",
   "metadata": {
    "pycharm": {
     "name": "#%% md\n"
    }
   },
   "source": [
    "visualize (for the fun of it)"
   ]
  },
  {
   "cell_type": "code",
   "execution_count": 6,
   "metadata": {
    "pycharm": {
     "name": "#%%\n"
    }
   },
   "outputs": [
    {
     "data": {
      "image/png": "[encoded data removed]",
      "text/plain": [
       "<Figure size 432x288 with 1 Axes>"
      ]
     },
     "metadata": {
      "needs_background": "light"
     },
     "output_type": "display_data"
    }
   ],
   "source": [
    "plt.hist(data[data.X2==1].X1, alpha=0.3, label='X2=1')\n",
    "plt.hist(data[data.X2==0].X1, alpha=0.3, label='X2=0')\n",
    "plt.legend()\n",
    "plt.show()"
   ]
  },
  {
   "cell_type": "markdown",
   "metadata": {
    "pycharm": {
     "name": "#%%\n"
    }
   },
   "source": [
    "**Remarks**\n",
    "\n",
    "- state functions: _linear, linear+interactions_.\n",
    "- output functions: _continuous with Gaussian noise, bernoulli_. any type of data can be simulated using state value"
   ]
  },
  {
   "cell_type": "markdown",
   "metadata": {
    "pycharm": {
     "name": "#%% md\n"
    }
   },
   "source": [
    "## Edges\n",
    "\n",
    "create and edge between `X1` and `X2`: output of `X1` passes through edge before going to `X2`"
   ]
  },
  {
   "cell_type": "code",
   "execution_count": null,
   "outputs": [],
   "source": [
    "from rad_sim.sem.graph_objects import Edge\n",
    "\n",
    "# instantitate\n",
    "e1 = Edge(parent='X1', child='X2')\n",
    "# set function and params\n",
    "e1.set_function(\n",
    "    function_name='sigmoid'\n",
    ").set_function_params(\n",
    "    function_params={'alpha': 1, 'beta': 1.9, 'gamma': 1, 'tau': 1, 'rho': 0}\n",
    ")\n",
    "# map\n",
    "edge_output = e1.map(array=data['X1'])\n",
    "\n",
    "# give this as the input to X2\n",
    "n2.calc_state(\n",
    "    inputs=pd.DataFrame({'X1': edge_output})\n",
    ")\n",
    "data['X2'] = n2.calc_output()"
   ],
   "metadata": {
    "collapsed": false,
    "pycharm": {
     "name": "#%%\n"
    }
   }
  },
  {
   "cell_type": "markdown",
   "source": [
    "plot histogram again"
   ],
   "metadata": {
    "collapsed": false,
    "pycharm": {
     "name": "#%% md\n"
    }
   }
  },
  {
   "cell_type": "code",
   "execution_count": null,
   "outputs": [],
   "source": [
    "plt.hist(data[data.X2==1].X1, alpha=0.3, label='X2=1')\n",
    "plt.hist(data[data.X2==0].X1, alpha=0.3, label='X2=0')\n",
    "plt.legend()\n",
    "plt.show()"
   ],
   "metadata": {
    "collapsed": false,
    "pycharm": {
     "name": "#%%\n"
    }
   }
  },
  {
   "cell_type": "markdown",
   "source": [
    "**Remarks**\n",
    "\n",
    "- edge functions are: _identity (no change), sigmoid and Gaussian RBF (for continuous input), Beta noise (for binary input)_"
   ],
   "metadata": {
    "collapsed": false,
    "pycharm": {
     "name": "#%% md\n"
    }
   }
  },
  {
   "cell_type": "markdown",
   "source": [
    "## Graphs and parameterizers\n",
    "\n",
    "Graphs simulate nodes and edges given an adjacency matrix and the set of parameters"
   ],
   "metadata": {
    "collapsed": false,
    "pycharm": {
     "name": "#%% md\n"
    }
   }
  },
  {
   "cell_type": "code",
   "execution_count": null,
   "outputs": [],
   "source": [
    "from rad_sim.sem.graph_objects import BaseGraph\n",
    "\n",
    "graph = BaseGraph()\n",
    "graph.set_nodes(nodes_list=[\n",
    "    {\n",
    "        'name': 'A1',\n",
    "        'parents': [],\n",
    "        'output_type': 'continuous',\n",
    "        'state_function': 'linear',\n",
    "        'output_function': 'gaussian_noise',\n",
    "        'state_params': {},\n",
    "        'output_params': {'rho': 0.02}\n",
    "    },\n",
    "    {\n",
    "        'name': 'A2',\n",
    "        'parents': [],\n",
    "        'output_type': 'continuous',\n",
    "        'state_function': 'linear',\n",
    "        'output_function': 'gaussian_noise',\n",
    "        'state_params': {},\n",
    "        'output_params': {'rho': 0.02}\n",
    "    },\n",
    "    {\n",
    "        'name': 'B1',\n",
    "        'parents': ['A1', 'A2'],\n",
    "        'output_type': 'binary',\n",
    "        'state_function': 'linear',\n",
    "        'output_function': 'bernoulli',\n",
    "        'state_params': {'coefs': np.array([1, 1])},\n",
    "        'output_params': {'rho': 0.02, 'gamma': 0}\n",
    "    }\n",
    "])\n",
    "edge_param = {'alpha': 1, 'beta': 0, 'gamma': 0, 'tau': 1, 'rho': 0.02}\n",
    "graph.set_edges(\n",
    "    adj_matrix=pd.DataFrame(\n",
    "        [\n",
    "            [0, 0, 1],\n",
    "            [0, 0, 1],\n",
    "            [0, 0, 0]\n",
    "        ],\n",
    "        columns=['A1', 'A2', 'B1'],\n",
    "        index=['A1', 'A2', 'B1']\n",
    "    ),\n",
    "    function_specs={\n",
    "        'A1 -> B1': {'function_name': 'sigmoid', 'function_params': edge_param},\n",
    "        'A2 -> B1': {'function_name': 'sigmoid', 'function_params': edge_param}\n",
    "    }\n",
    ")\n",
    "data = graph.sample(size=300)\n",
    "print(data)"
   ],
   "metadata": {
    "collapsed": false,
    "pycharm": {
     "name": "#%%\n"
    }
   }
  },
  {
   "cell_type": "markdown",
   "metadata": {},
   "source": [
    "## Graphs and parameterizers\n",
    "\n",
    "Graphs simulate nodes and edges given an adjacency matrix and the set of parameters"
   ]
  },
  {
   "cell_type": "code",
   "execution_count": 22,
   "metadata": {},
   "outputs": [
    {
     "ename": "TypeError",
     "evalue": "set_function_params() got an unexpected keyword argument 'function_params'",
     "output_type": "error",
     "traceback": [
      "\u001B[0;31m---------------------------------------------------------------------------\u001B[0m",
      "\u001B[0;31mTypeError\u001B[0m                                 Traceback (most recent call last)",
      "Input \u001B[0;32mIn [22]\u001B[0m, in \u001B[0;36m<module>\u001B[0;34m\u001B[0m\n\u001B[1;32m      4\u001B[0m graph\u001B[38;5;241m.\u001B[39mset_nodes(nodes_list\u001B[38;5;241m=\u001B[39m[\n\u001B[1;32m      5\u001B[0m     {\n\u001B[1;32m      6\u001B[0m         \u001B[38;5;124m'\u001B[39m\u001B[38;5;124mname\u001B[39m\u001B[38;5;124m'\u001B[39m: \u001B[38;5;124m'\u001B[39m\u001B[38;5;124mA1\u001B[39m\u001B[38;5;124m'\u001B[39m,\n\u001B[0;32m   (...)\u001B[0m\n\u001B[1;32m     31\u001B[0m     }\n\u001B[1;32m     32\u001B[0m ])\n\u001B[1;32m     33\u001B[0m edge_param \u001B[38;5;241m=\u001B[39m {\u001B[38;5;124m'\u001B[39m\u001B[38;5;124malpha\u001B[39m\u001B[38;5;124m'\u001B[39m: \u001B[38;5;241m1\u001B[39m, \u001B[38;5;124m'\u001B[39m\u001B[38;5;124mbeta\u001B[39m\u001B[38;5;124m'\u001B[39m: \u001B[38;5;241m0\u001B[39m, \u001B[38;5;124m'\u001B[39m\u001B[38;5;124mgamma\u001B[39m\u001B[38;5;124m'\u001B[39m: \u001B[38;5;241m0\u001B[39m, \u001B[38;5;124m'\u001B[39m\u001B[38;5;124mtau\u001B[39m\u001B[38;5;124m'\u001B[39m: \u001B[38;5;241m1\u001B[39m, \u001B[38;5;124m'\u001B[39m\u001B[38;5;124mrho\u001B[39m\u001B[38;5;124m'\u001B[39m: \u001B[38;5;241m0.02\u001B[39m}\n\u001B[0;32m---> 34\u001B[0m \u001B[43mgraph\u001B[49m\u001B[38;5;241;43m.\u001B[39;49m\u001B[43mset_edges\u001B[49m\u001B[43m(\u001B[49m\n\u001B[1;32m     35\u001B[0m \u001B[43m    \u001B[49m\u001B[43madj_matrix\u001B[49m\u001B[38;5;241;43m=\u001B[39;49m\u001B[43mpd\u001B[49m\u001B[38;5;241;43m.\u001B[39;49m\u001B[43mDataFrame\u001B[49m\u001B[43m(\u001B[49m\n\u001B[1;32m     36\u001B[0m \u001B[43m        \u001B[49m\u001B[43m[\u001B[49m\n\u001B[1;32m     37\u001B[0m \u001B[43m            \u001B[49m\u001B[43m[\u001B[49m\u001B[38;5;241;43m0\u001B[39;49m\u001B[43m,\u001B[49m\u001B[43m \u001B[49m\u001B[38;5;241;43m0\u001B[39;49m\u001B[43m,\u001B[49m\u001B[43m \u001B[49m\u001B[38;5;241;43m1\u001B[39;49m\u001B[43m]\u001B[49m\u001B[43m,\u001B[49m\n\u001B[1;32m     38\u001B[0m \u001B[43m            \u001B[49m\u001B[43m[\u001B[49m\u001B[38;5;241;43m0\u001B[39;49m\u001B[43m,\u001B[49m\u001B[43m \u001B[49m\u001B[38;5;241;43m0\u001B[39;49m\u001B[43m,\u001B[49m\u001B[43m \u001B[49m\u001B[38;5;241;43m1\u001B[39;49m\u001B[43m]\u001B[49m\u001B[43m,\u001B[49m\n\u001B[1;32m     39\u001B[0m \u001B[43m            \u001B[49m\u001B[43m[\u001B[49m\u001B[38;5;241;43m0\u001B[39;49m\u001B[43m,\u001B[49m\u001B[43m \u001B[49m\u001B[38;5;241;43m0\u001B[39;49m\u001B[43m,\u001B[49m\u001B[43m \u001B[49m\u001B[38;5;241;43m0\u001B[39;49m\u001B[43m]\u001B[49m\n\u001B[1;32m     40\u001B[0m \u001B[43m        \u001B[49m\u001B[43m]\u001B[49m\u001B[43m,\u001B[49m\n\u001B[1;32m     41\u001B[0m \u001B[43m        \u001B[49m\u001B[43mcolumns\u001B[49m\u001B[38;5;241;43m=\u001B[39;49m\u001B[43m[\u001B[49m\u001B[38;5;124;43m'\u001B[39;49m\u001B[38;5;124;43mA1\u001B[39;49m\u001B[38;5;124;43m'\u001B[39;49m\u001B[43m,\u001B[49m\u001B[43m \u001B[49m\u001B[38;5;124;43m'\u001B[39;49m\u001B[38;5;124;43mA2\u001B[39;49m\u001B[38;5;124;43m'\u001B[39;49m\u001B[43m,\u001B[49m\u001B[43m \u001B[49m\u001B[38;5;124;43m'\u001B[39;49m\u001B[38;5;124;43mB1\u001B[39;49m\u001B[38;5;124;43m'\u001B[39;49m\u001B[43m]\u001B[49m\u001B[43m,\u001B[49m\n\u001B[1;32m     42\u001B[0m \u001B[43m        \u001B[49m\u001B[43mindex\u001B[49m\u001B[38;5;241;43m=\u001B[39;49m\u001B[43m[\u001B[49m\u001B[38;5;124;43m'\u001B[39;49m\u001B[38;5;124;43mA1\u001B[39;49m\u001B[38;5;124;43m'\u001B[39;49m\u001B[43m,\u001B[49m\u001B[43m \u001B[49m\u001B[38;5;124;43m'\u001B[39;49m\u001B[38;5;124;43mA2\u001B[39;49m\u001B[38;5;124;43m'\u001B[39;49m\u001B[43m,\u001B[49m\u001B[43m \u001B[49m\u001B[38;5;124;43m'\u001B[39;49m\u001B[38;5;124;43mB1\u001B[39;49m\u001B[38;5;124;43m'\u001B[39;49m\u001B[43m]\u001B[49m\n\u001B[1;32m     43\u001B[0m \u001B[43m    \u001B[49m\u001B[43m)\u001B[49m\u001B[43m,\u001B[49m\n\u001B[1;32m     44\u001B[0m \u001B[43m    \u001B[49m\u001B[43mfunction_specs\u001B[49m\u001B[38;5;241;43m=\u001B[39;49m\u001B[43m{\u001B[49m\n\u001B[1;32m     45\u001B[0m \u001B[43m        \u001B[49m\u001B[38;5;124;43m'\u001B[39;49m\u001B[38;5;124;43mA1 -> B1\u001B[39;49m\u001B[38;5;124;43m'\u001B[39;49m\u001B[43m:\u001B[49m\u001B[43m \u001B[49m\u001B[43m{\u001B[49m\u001B[38;5;124;43m'\u001B[39;49m\u001B[38;5;124;43mfunction_name\u001B[39;49m\u001B[38;5;124;43m'\u001B[39;49m\u001B[43m:\u001B[49m\u001B[43m \u001B[49m\u001B[38;5;124;43m'\u001B[39;49m\u001B[38;5;124;43msigmoid\u001B[39;49m\u001B[38;5;124;43m'\u001B[39;49m\u001B[43m,\u001B[49m\u001B[43m \u001B[49m\u001B[38;5;124;43m'\u001B[39;49m\u001B[38;5;124;43mfunction_params\u001B[39;49m\u001B[38;5;124;43m'\u001B[39;49m\u001B[43m:\u001B[49m\u001B[43m \u001B[49m\u001B[43medge_param\u001B[49m\u001B[43m}\u001B[49m\u001B[43m,\u001B[49m\n\u001B[1;32m     46\u001B[0m \u001B[43m        \u001B[49m\u001B[38;5;124;43m'\u001B[39;49m\u001B[38;5;124;43mA2 -> B1\u001B[39;49m\u001B[38;5;124;43m'\u001B[39;49m\u001B[43m:\u001B[49m\u001B[43m \u001B[49m\u001B[43m{\u001B[49m\u001B[38;5;124;43m'\u001B[39;49m\u001B[38;5;124;43mfunction_name\u001B[39;49m\u001B[38;5;124;43m'\u001B[39;49m\u001B[43m:\u001B[49m\u001B[43m \u001B[49m\u001B[38;5;124;43m'\u001B[39;49m\u001B[38;5;124;43msigmoid\u001B[39;49m\u001B[38;5;124;43m'\u001B[39;49m\u001B[43m,\u001B[49m\u001B[43m \u001B[49m\u001B[38;5;124;43m'\u001B[39;49m\u001B[38;5;124;43mfunction_params\u001B[39;49m\u001B[38;5;124;43m'\u001B[39;49m\u001B[43m:\u001B[49m\u001B[43m \u001B[49m\u001B[43medge_param\u001B[49m\u001B[43m}\u001B[49m\n\u001B[1;32m     47\u001B[0m \u001B[43m    \u001B[49m\u001B[43m}\u001B[49m\n\u001B[1;32m     48\u001B[0m \u001B[43m)\u001B[49m\n\u001B[1;32m     49\u001B[0m data \u001B[38;5;241m=\u001B[39m graph\u001B[38;5;241m.\u001B[39msample(size\u001B[38;5;241m=\u001B[39m\u001B[38;5;241m300\u001B[39m)\n\u001B[1;32m     50\u001B[0m \u001B[38;5;28mprint\u001B[39m(data)\n",
      "File \u001B[0;32m~/Desktop/projects/simulator/rad_sim/sem/graph_objects.py:203\u001B[0m, in \u001B[0;36mBaseGraph.set_edges\u001B[0;34m(self, adj_matrix, function_specs)\u001B[0m\n\u001B[1;32m    201\u001B[0m     edge_symbol \u001B[38;5;241m=\u001B[39m \u001B[38;5;124m'\u001B[39m\u001B[38;5;132;01m{}\u001B[39;00m\u001B[38;5;124m -> \u001B[39m\u001B[38;5;132;01m{}\u001B[39;00m\u001B[38;5;124m'\u001B[39m\u001B[38;5;241m.\u001B[39mformat(node_pair[\u001B[38;5;241m0\u001B[39m], node_pair[\u001B[38;5;241m1\u001B[39m])\n\u001B[1;32m    202\u001B[0m     \u001B[38;5;28;01massert\u001B[39;00m info \u001B[38;5;241m!=\u001B[39m \u001B[38;5;241m0\u001B[39m\n\u001B[0;32m--> 203\u001B[0m     \u001B[38;5;28mself\u001B[39m\u001B[38;5;241m.\u001B[39medges[edge_symbol] \u001B[38;5;241m=\u001B[39m \u001B[43mEdge\u001B[49m\u001B[43m(\u001B[49m\n\u001B[1;32m    204\u001B[0m \u001B[43m        \u001B[49m\u001B[43mparent\u001B[49m\u001B[38;5;241;43m=\u001B[39;49m\u001B[43mnode_pair\u001B[49m\u001B[43m[\u001B[49m\u001B[38;5;241;43m0\u001B[39;49m\u001B[43m]\u001B[49m\u001B[43m,\u001B[49m\u001B[43m \u001B[49m\u001B[43mchild\u001B[49m\u001B[38;5;241;43m=\u001B[39;49m\u001B[43mnode_pair\u001B[49m\u001B[43m[\u001B[49m\u001B[38;5;241;43m1\u001B[39;49m\u001B[43m]\u001B[49m\n\u001B[1;32m    205\u001B[0m \u001B[43m    \u001B[49m\u001B[43m)\u001B[49m\u001B[38;5;241;43m.\u001B[39;49m\u001B[43mset_function\u001B[49m\u001B[43m(\u001B[49m\n\u001B[1;32m    206\u001B[0m \u001B[43m        \u001B[49m\u001B[43mfunction_name\u001B[49m\u001B[38;5;241;43m=\u001B[39;49m\u001B[43mfunction_specs\u001B[49m\u001B[43m[\u001B[49m\u001B[43medge_symbol\u001B[49m\u001B[43m]\u001B[49m\u001B[43m[\u001B[49m\u001B[38;5;124;43m'\u001B[39;49m\u001B[38;5;124;43mfunction_name\u001B[39;49m\u001B[38;5;124;43m'\u001B[39;49m\u001B[43m]\u001B[49m\n\u001B[1;32m    207\u001B[0m \u001B[43m    \u001B[49m\u001B[43m)\u001B[49m\u001B[38;5;241;43m.\u001B[39;49m\u001B[43mset_function_params\u001B[49m\u001B[43m(\u001B[49m\n\u001B[1;32m    208\u001B[0m \u001B[43m        \u001B[49m\u001B[43mparams\u001B[49m\u001B[38;5;241;43m=\u001B[39;49m\u001B[43mfunction_specs\u001B[49m\u001B[43m[\u001B[49m\u001B[43medge_symbol\u001B[49m\u001B[43m]\u001B[49m\u001B[43m[\u001B[49m\u001B[38;5;124;43m'\u001B[39;49m\u001B[38;5;124;43mparams\u001B[39;49m\u001B[38;5;124;43m'\u001B[39;49m\u001B[43m]\u001B[49m\n\u001B[1;32m    209\u001B[0m \u001B[43m    \u001B[49m\u001B[43m)\u001B[49m\n\u001B[1;32m    210\u001B[0m \u001B[38;5;28;01mexcept\u001B[39;00m \u001B[38;5;167;01mAssertionError\u001B[39;00m:\n\u001B[1;32m    211\u001B[0m     \u001B[38;5;28;01mcontinue\u001B[39;00m\n",
      "\u001B[0;31mTypeError\u001B[0m: set_function_params() got an unexpected keyword argument 'function_params'"
     ]
    }
   ],
   "source": [
    "from rad_sim.sem.graph_objects import BaseGraph\n",
    "\n",
    "graph = BaseGraph()\n",
    "graph.set_nodes(nodes_list=[\n",
    "    {\n",
    "        'name': 'A1',\n",
    "        'parents': [],\n",
    "        'output_type': 'continuous',\n",
    "        'state_function': 'linear',\n",
    "        'output_function': 'gaussian_noise',\n",
    "        'state_params': {},\n",
    "        'output_params': {'rho': 0.02}\n",
    "    },\n",
    "    {\n",
    "        'name': 'A2',\n",
    "        'parents': [],\n",
    "        'output_type': 'continuous',\n",
    "        'state_function': 'linear',\n",
    "        'output_function': 'gaussian_noise',\n",
    "        'state_params': {},\n",
    "        'output_params': {'rho': 0.02}\n",
    "    },\n",
    "    {\n",
    "        'name': 'B1',\n",
    "        'parents': ['A1', 'A2'],\n",
    "        'output_type': 'binary',\n",
    "        'state_function': 'linear',\n",
    "        'output_function': 'bernoulli',\n",
    "        'state_params': {'coefs': np.array([1, 1])},\n",
    "        'output_params': {'rho': 0.02, 'gamma': 0}\n",
    "    }\n",
    "])\n",
    "edge_param = {'alpha': 1, 'beta': 0, 'gamma': 0, 'tau': 1, 'rho': 0.02}\n",
    "graph.set_edges(\n",
    "    adj_matrix=pd.DataFrame(\n",
    "        [\n",
    "            [0, 0, 1],\n",
    "            [0, 0, 1],\n",
    "            [0, 0, 0]\n",
    "        ],\n",
    "        columns=['A1', 'A2', 'B1'],\n",
    "        index=['A1', 'A2', 'B1']\n",
    "    ),\n",
    "    function_specs={\n",
    "        'A1 -> B1': {'function_name': 'sigmoid', 'function_params': edge_param},\n",
    "        'A2 -> B1': {'function_name': 'sigmoid', 'function_params': edge_param}\n",
    "    }\n",
    ")\n",
    "data = graph.sample(size=300)\n",
    "print(data)"
   ]
  }
 ],
 "metadata": {
  "kernelspec": {
   "display_name": "Python 3 (ipykernel)",
   "language": "python",
   "name": "python3"
  },
  "language_info": {
   "codemirror_mode": {
    "name": "ipython",
    "version": 3
   },
   "file_extension": ".py",
   "mimetype": "text/x-python",
   "name": "python",
   "nbconvert_exporter": "python",
   "pygments_lexer": "ipython3",
   "version": "3.8.10"
  }
 },
 "nbformat": 4,
 "nbformat_minor": 4
}