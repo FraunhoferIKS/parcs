{
 "cells": [
  {
   "cell_type": "code",
   "execution_count": 1,
   "metadata": {
    "collapsed": true
   },
   "outputs": [],
   "source": [
    "%load_ext autoreload\n",
    "%autoreload 2"
   ]
  },
  {
   "cell_type": "code",
   "execution_count": 4,
   "outputs": [],
   "source": [
    "import pandas as pd\n",
    "\n",
    "data = pd.read_excel(\n",
    "    \"https://archive.ics.uci.edu/ml/machine-learning-databases/concrete/compressive/Concrete_Data.xls\"\n",
    ")\n",
    "# rename\n",
    "data.rename({\n",
    "    c: 'Z_{}'.format(i) for c, i in zip(data.columns, range(len(data.columns)))\n",
    "}, axis=1, inplace=True)\n",
    "\n",
    "# normalize\n",
    "for c in data.columns:\n",
    "    data[c] = (data[c] - data[c].min()) / (data[c].max() - data[c].min())\n",
    "gt = data.values"
   ],
   "metadata": {
    "collapsed": false
   }
  },
  {
   "cell_type": "code",
   "execution_count": 6,
   "outputs": [
    {
     "name": "stdout",
     "output_type": "stream",
     "text": [
      "0\n",
      "1\n",
      "2\n",
      "3\n",
      "4\n",
      "5\n",
      "6\n",
      "7\n",
      "8\n",
      "9\n",
      "0.15757568294278496\n",
      "0.0031004201894142516\n"
     ]
    }
   ],
   "source": [
    "from sklearn.impute import SimpleImputer\n",
    "from matplotlib import pyplot as plt\n",
    "import numpy as np\n",
    "from hyperimpute.plugins.imputers import Imputers\n",
    "\n",
    "range_ = np.linspace(0, 1, 3)\n",
    "rmse = []\n",
    "\n",
    "for it in range(10):\n",
    "    print(it)\n",
    "    r = 0.3\n",
    "    mask = np.random.choice([np.nan, 1], p=[r, 1-r], size=data.shape)\n",
    "    ds = np.multiply(gt, mask)\n",
    "    n = np.isnan(mask).sum()\n",
    "    hpi = Imputers().get(\n",
    "        'hyperimpute',\n",
    "        optimizer='hyperband',\n",
    "        classifier_seed=['logistic_regression'],\n",
    "        regression_seed=['linear_regression']\n",
    "    )\n",
    "    imp = hpi.fit_transform(pd.DataFrame(ds)).values\n",
    "    sq = np.square(\n",
    "        gt[np.isnan(mask)] - imp[np.isnan(mask)]\n",
    "    )\n",
    "    ssq = sq.sum()/n\n",
    "    sqr = np.sqrt(ssq)\n",
    "    rmse.append(sqr)\n",
    "\n",
    "print(np.mean(rmse))\n",
    "print(np.std(rmse))"
   ],
   "metadata": {
    "collapsed": false
   }
  }
 ],
 "metadata": {
  "kernelspec": {
   "display_name": "Python 3",
   "language": "python",
   "name": "python3"
  },
  "language_info": {
   "codemirror_mode": {
    "name": "ipython",
    "version": 2
   },
   "file_extension": ".py",
   "mimetype": "text/x-python",
   "name": "python",
   "nbconvert_exporter": "python",
   "pygments_lexer": "ipython2",
   "version": "2.7.6"
  }
 },
 "nbformat": 4,
 "nbformat_minor": 0
}
