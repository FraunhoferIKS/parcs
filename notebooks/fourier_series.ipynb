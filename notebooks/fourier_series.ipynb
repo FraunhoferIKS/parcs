{
 "cells": [
  {
   "cell_type": "code",
   "execution_count": 1,
   "metadata": {
    "pycharm": {
     "name": "#%%\n"
    }
   },
   "outputs": [],
   "source": [
    "%load_ext autoreload\n",
    "%autoreload 2"
   ]
  },
  {
   "cell_type": "code",
   "execution_count": 4,
   "metadata": {
    "pycharm": {
     "name": "#%%\n"
    }
   },
   "outputs": [],
   "source": [
    "import numpy as np\n",
    "from matplotlib import pyplot as plt\n",
    "\n",
    "np.random.seed(2)"
   ]
  },
  {
   "cell_type": "markdown",
   "metadata": {
    "pycharm": {
     "name": "#%% md\n"
    }
   },
   "source": [
    "## Making Timeseries\n",
    "\n",
    "To simulate Fourier Series (FS), we need two parts: a latent simulator to simulate FS latent variables, and the FS simulator\n",
    "\n",
    "SEM simulation will be used in the future, but for now, two simple simulators are availeble: uniform and normal independent variables. Below, we use \"uniform\""
   ]
  },
  {
   "cell_type": "code",
   "execution_count": 5,
   "metadata": {
    "pycharm": {
     "name": "#%%\n"
    }
   },
   "outputs": [],
   "source": [
    "from rad_sim.sem.basic import IndependentUniformLatents\n",
    "\n",
    "iul = IndependentUniformLatents()"
   ]
  },
  {
   "cell_type": "markdown",
   "metadata": {
    "pycharm": {
     "name": "#%% md\n"
    }
   },
   "source": [
    "we want to simulate FS with 10 sine waves with sequence length 300. so we need 10 frequency (`w_0, ..., w_9`) + 10 phase shifts (`phi_0, ..., phi_9`). Sequence length will be used to give a threshold for frequency."
   ]
  },
  {
   "cell_type": "code",
   "execution_count": 6,
   "metadata": {
    "pycharm": {
     "name": "#%%\n"
    }
   },
   "outputs": [
    {
     "data": {
      "text/plain": [
       "<rad_sim.sem.basic.IndependentUniformLatents at 0x7f9c088efaf0>"
      ]
     },
     "execution_count": 6,
     "metadata": {},
     "output_type": "execute_result"
    }
   ],
   "source": [
    "import numpy as np\n",
    "\n",
    "seq_len = 300\n",
    "num_sins = 10\n",
    "\n",
    "frequency_range = [np.pi/seq_len, np.pi/20]\n",
    "phaseshift_range = [-np.pi/4, np.pi/4]\n",
    "\n",
    "var_list = [\n",
    "    {'name': 'w_{}'.format(i), 'low': frequency_range[0], 'high': frequency_range[1]}\n",
    "    for i in range(num_sins)\n",
    "] + [\n",
    "    {'name': 'phi_{}'.format(i), 'low': phaseshift_range[0], 'high': phaseshift_range[1]}\n",
    "    for i in range(num_sins)\n",
    "]\n",
    "\n",
    "iul.set_nodes(var_list=var_list)"
   ]
  },
  {
   "cell_type": "markdown",
   "metadata": {
    "pycharm": {
     "name": "#%% md\n"
    }
   },
   "source": [
    "simulate for 800 samples"
   ]
  },
  {
   "cell_type": "code",
   "execution_count": 7,
   "metadata": {
    "scrolled": true,
    "pycharm": {
     "name": "#%%\n"
    }
   },
   "outputs": [
    {
     "data": {
      "text/html": [
       "<div>\n",
       "<style scoped>\n",
       "    .dataframe tbody tr th:only-of-type {\n",
       "        vertical-align: middle;\n",
       "    }\n",
       "\n",
       "    .dataframe tbody tr th {\n",
       "        vertical-align: top;\n",
       "    }\n",
       "\n",
       "    .dataframe thead th {\n",
       "        text-align: right;\n",
       "    }\n",
       "</style>\n",
       "<table border=\"1\" class=\"dataframe\">\n",
       "  <thead>\n",
       "    <tr style=\"text-align: right;\">\n",
       "      <th></th>\n",
       "      <th>w_0</th>\n",
       "      <th>w_1</th>\n",
       "      <th>w_2</th>\n",
       "      <th>w_3</th>\n",
       "      <th>w_4</th>\n",
       "      <th>w_5</th>\n",
       "      <th>w_6</th>\n",
       "      <th>w_7</th>\n",
       "      <th>w_8</th>\n",
       "      <th>w_9</th>\n",
       "      <th>phi_0</th>\n",
       "      <th>phi_1</th>\n",
       "      <th>phi_2</th>\n",
       "      <th>phi_3</th>\n",
       "      <th>phi_4</th>\n",
       "      <th>phi_5</th>\n",
       "      <th>phi_6</th>\n",
       "      <th>phi_7</th>\n",
       "      <th>phi_8</th>\n",
       "      <th>phi_9</th>\n",
       "    </tr>\n",
       "  </thead>\n",
       "  <tbody>\n",
       "    <tr>\n",
       "      <th>0</th>\n",
       "      <td>0.074392</td>\n",
       "      <td>0.109084</td>\n",
       "      <td>0.049279</td>\n",
       "      <td>0.058959</td>\n",
       "      <td>0.111676</td>\n",
       "      <td>0.121549</td>\n",
       "      <td>0.033175</td>\n",
       "      <td>0.104444</td>\n",
       "      <td>0.026577</td>\n",
       "      <td>0.098551</td>\n",
       "      <td>0.757962</td>\n",
       "      <td>-0.080811</td>\n",
       "      <td>0.446198</td>\n",
       "      <td>-0.645351</td>\n",
       "      <td>-0.485817</td>\n",
       "      <td>0.443033</td>\n",
       "      <td>-0.757045</td>\n",
       "      <td>0.630713</td>\n",
       "      <td>-0.034734</td>\n",
       "      <td>0.578786</td>\n",
       "    </tr>\n",
       "    <tr>\n",
       "      <th>1</th>\n",
       "      <td>0.014273</td>\n",
       "      <td>0.071276</td>\n",
       "      <td>0.020531</td>\n",
       "      <td>0.073103</td>\n",
       "      <td>0.140334</td>\n",
       "      <td>0.112044</td>\n",
       "      <td>0.121458</td>\n",
       "      <td>0.034105</td>\n",
       "      <td>0.021064</td>\n",
       "      <td>0.025365</td>\n",
       "      <td>0.494304</td>\n",
       "      <td>0.457353</td>\n",
       "      <td>0.755900</td>\n",
       "      <td>0.573182</td>\n",
       "      <td>0.686056</td>\n",
       "      <td>-0.506669</td>\n",
       "      <td>0.694701</td>\n",
       "      <td>-0.541630</td>\n",
       "      <td>0.146470</td>\n",
       "      <td>0.764515</td>\n",
       "    </tr>\n",
       "    <tr>\n",
       "      <th>2</th>\n",
       "      <td>0.091057</td>\n",
       "      <td>0.051390</td>\n",
       "      <td>0.046786</td>\n",
       "      <td>0.107530</td>\n",
       "      <td>0.018914</td>\n",
       "      <td>0.099993</td>\n",
       "      <td>0.076960</td>\n",
       "      <td>0.047949</td>\n",
       "      <td>0.113492</td>\n",
       "      <td>0.020806</td>\n",
       "      <td>-0.743909</td>\n",
       "      <td>0.556424</td>\n",
       "      <td>-0.590204</td>\n",
       "      <td>0.343088</td>\n",
       "      <td>-0.090891</td>\n",
       "      <td>0.324138</td>\n",
       "      <td>0.640730</td>\n",
       "      <td>0.614002</td>\n",
       "      <td>-0.121375</td>\n",
       "      <td>-0.033195</td>\n",
       "    </tr>\n",
       "    <tr>\n",
       "      <th>3</th>\n",
       "      <td>0.074294</td>\n",
       "      <td>0.141360</td>\n",
       "      <td>0.069704</td>\n",
       "      <td>0.150451</td>\n",
       "      <td>0.043966</td>\n",
       "      <td>0.032317</td>\n",
       "      <td>0.037796</td>\n",
       "      <td>0.123138</td>\n",
       "      <td>0.050353</td>\n",
       "      <td>0.113883</td>\n",
       "      <td>0.039482</td>\n",
       "      <td>0.628323</td>\n",
       "      <td>0.281296</td>\n",
       "      <td>-0.334083</td>\n",
       "      <td>-0.035010</td>\n",
       "      <td>-0.597759</td>\n",
       "      <td>-0.423784</td>\n",
       "      <td>0.615820</td>\n",
       "      <td>-0.010835</td>\n",
       "      <td>-0.116332</td>\n",
       "    </tr>\n",
       "    <tr>\n",
       "      <th>4</th>\n",
       "      <td>0.072101</td>\n",
       "      <td>0.104928</td>\n",
       "      <td>0.015906</td>\n",
       "      <td>0.040330</td>\n",
       "      <td>0.025756</td>\n",
       "      <td>0.080824</td>\n",
       "      <td>0.084621</td>\n",
       "      <td>0.084393</td>\n",
       "      <td>0.154246</td>\n",
       "      <td>0.026014</td>\n",
       "      <td>0.652931</td>\n",
       "      <td>-0.022874</td>\n",
       "      <td>-0.191138</td>\n",
       "      <td>0.763351</td>\n",
       "      <td>-0.666227</td>\n",
       "      <td>0.556638</td>\n",
       "      <td>0.618328</td>\n",
       "      <td>-0.463071</td>\n",
       "      <td>0.421272</td>\n",
       "      <td>-0.090020</td>\n",
       "    </tr>\n",
       "  </tbody>\n",
       "</table>\n",
       "</div>"
      ],
      "text/plain": [
       "        w_0       w_1       w_2       w_3       w_4       w_5       w_6  \\\n",
       "0  0.074392  0.109084  0.049279  0.058959  0.111676  0.121549  0.033175   \n",
       "1  0.014273  0.071276  0.020531  0.073103  0.140334  0.112044  0.121458   \n",
       "2  0.091057  0.051390  0.046786  0.107530  0.018914  0.099993  0.076960   \n",
       "3  0.074294  0.141360  0.069704  0.150451  0.043966  0.032317  0.037796   \n",
       "4  0.072101  0.104928  0.015906  0.040330  0.025756  0.080824  0.084621   \n",
       "\n",
       "        w_7       w_8       w_9     phi_0     phi_1     phi_2     phi_3  \\\n",
       "0  0.104444  0.026577  0.098551  0.757962 -0.080811  0.446198 -0.645351   \n",
       "1  0.034105  0.021064  0.025365  0.494304  0.457353  0.755900  0.573182   \n",
       "2  0.047949  0.113492  0.020806 -0.743909  0.556424 -0.590204  0.343088   \n",
       "3  0.123138  0.050353  0.113883  0.039482  0.628323  0.281296 -0.334083   \n",
       "4  0.084393  0.154246  0.026014  0.652931 -0.022874 -0.191138  0.763351   \n",
       "\n",
       "      phi_4     phi_5     phi_6     phi_7     phi_8     phi_9  \n",
       "0 -0.485817  0.443033 -0.757045  0.630713 -0.034734  0.578786  \n",
       "1  0.686056 -0.506669  0.694701 -0.541630  0.146470  0.764515  \n",
       "2 -0.090891  0.324138  0.640730  0.614002 -0.121375 -0.033195  \n",
       "3 -0.035010 -0.597759 -0.423784  0.615820 -0.010835 -0.116332  \n",
       "4 -0.666227  0.556638  0.618328 -0.463071  0.421272 -0.090020  "
      ]
     },
     "execution_count": 7,
     "metadata": {},
     "output_type": "execute_result"
    }
   ],
   "source": [
    "sample_size = 800\n",
    "\n",
    "latents = iul.sample(sample_size=sample_size)\n",
    "\n",
    "latents.head()"
   ]
  },
  {
   "cell_type": "markdown",
   "metadata": {
    "pycharm": {
     "name": "#%% md\n"
    }
   },
   "source": [
    "simulating FS series: frequencies `w_0` to `w_p`, in that order, are considered as dominant frequencies such that the most dominant frequency is `w_0`. we set the amplitude for the most dominant frequenct (`dominant_amplitude`), for the next ones, we set $a_i = \\exp{(-di)}$ as the amplitude for `w_i` where `d` is an exponential decay. For example if `decay=0`, all the amplitudes are `1`. if `decay=1`, the amplitudes will be `[1, 0.36, ...]`.\n",
    "\n",
    "We also consider an added gaussian noise. the `added_noise_sigma_ratio` defines the added noise scale as `scale = ratio * dominant amplitude`. Set to 0 to have no added noise"
   ]
  },
  {
   "cell_type": "code",
   "execution_count": 8,
   "metadata": {
    "pycharm": {
     "name": "#%%\n"
    }
   },
   "outputs": [],
   "source": [
    "from rad_sim.simulators.temporal.deterministic import FourierSeries\n",
    "\n",
    "# Fourier config\n",
    "DECAY = 0.3\n",
    "AMP = 1\n",
    "SIGMA_RATIO = 0.1\n",
    "\n",
    "# === SAMPLE FOURIER SERIES ===\n",
    "fs = FourierSeries(\n",
    "    sampled_latents=latents,\n",
    "    dominant_amplitude=AMP,\n",
    "    amplitude_exp_decay_rate=DECAY,\n",
    "    frequency_prefix='w',\n",
    "    phaseshift_prefix='phi',\n",
    "    added_noise_sigma_ratio=SIGMA_RATIO\n",
    ")\n",
    "signals = fs.sample(seq_len=seq_len)"
   ]
  },
  {
   "cell_type": "markdown",
   "metadata": {
    "pycharm": {
     "name": "#%% md\n"
    }
   },
   "source": [
    "visualizing 2 signals as an example"
   ]
  },
  {
   "cell_type": "code",
   "execution_count": 9,
   "metadata": {
    "pycharm": {
     "name": "#%%\n"
    }
   },
   "outputs": [
    {
     "data": {
      "image/png": "[encoded data removed]",
      "text/plain": [
       "<Figure size 432x288 with 1 Axes>"
      ]
     },
     "metadata": {
      "needs_background": "light"
     },
     "output_type": "display_data"
    }
   ],
   "source": [
    "plt.plot(np.arange(seq_len), signals[2])\n",
    "plt.plot(np.arange(seq_len), signals[3])\n",
    "plt.show()"
   ]
  },
  {
   "cell_type": "markdown",
   "metadata": {
    "pycharm": {
     "name": "#%% md\n"
    }
   },
   "source": [
    "## Labeling Signals\n",
    "\n",
    "### Labeling according to Latents\n",
    "\n",
    "One way is to make the labels according to the latent variables. This can be done in two ways:\n",
    "\n",
    "1. make $y = f(L)$ where L is the latent vector. Say $f(.)$ is a logistic model\n",
    "2. sample for latents from two different distributions, while each distribution represents a class\n",
    "\n",
    "#### Logistic model from latents\n",
    "\n",
    "This can be done by the class `LatentLabelMaker`. In this case, a coefficient vector with the size of the latent vector is sampled uniformly, and the success probabilities to be used in a Bernoulli sampler will be calculated accordingly.\n",
    "\n",
    "- `coef_min` and `coef_max` determine low and high of the coefficient values\n",
    "- `normalize_latent` determines whether the sampled latent matrix will be normalized before the process\n",
    "- `sigmoid_offset` adds an offset to the output of the linear model before being fed to sigmoid function. adding positive or negative values will increase or decrease the expected value of the label respectively\n",
    "\n",
    "In the code below, we use the first 2 dominant frequencies to determine the labels"
   ]
  },
  {
   "cell_type": "code",
   "execution_count": 10,
   "metadata": {
    "pycharm": {
     "name": "#%%\n"
    }
   },
   "outputs": [
    {
     "data": {
      "text/plain": [
       "0.5075"
      ]
     },
     "execution_count": 10,
     "metadata": {},
     "output_type": "execute_result"
    }
   ],
   "source": [
    "from rad_sim.sem.basic import LatentLabelMaker\n",
    "\n",
    "lm = LatentLabelMaker(coef_min=1, coef_max=5, normalize_latent=True, sigmoid_offset=0)\n",
    "y = lm.make_label(sampled_latents=latents[['w_0', 'w_1']].values)\n",
    "\n",
    "y.mean()"
   ]
  },
  {
   "cell_type": "markdown",
   "metadata": {
    "pycharm": {
     "name": "#%% md\n"
    }
   },
   "source": [
    "#### make FS from two latent distributions\n",
    "\n",
    "The process is:\n",
    "- select two latent distributions, e.g. normals with different means\n",
    "- sample FS for the realizations of both distributions\n",
    "- label the samples according to the distribution"
   ]
  },
  {
   "cell_type": "code",
   "execution_count": 12,
   "metadata": {
    "pycharm": {
     "name": "#%%\n"
    }
   },
   "outputs": [
    {
     "data": {
      "image/png": "[encoded data removed]",
      "text/plain": [
       "<Figure size 432x288 with 1 Axes>"
      ]
     },
     "metadata": {
      "needs_background": "light"
     },
     "output_type": "display_data"
    }
   ],
   "source": [
    "from rad_sim.sem.basic import FrequencyLogNormalLatents, IndependentNormalLatents\n",
    "import pandas as pd\n",
    "\n",
    "mean_1 = np.pi/30\n",
    "mean_2 = np.pi/80\n",
    "sigma = np.pi/60\n",
    "phi = 0\n",
    "num_sins = 5\n",
    "\n",
    "phi_list = [\n",
    "    {'name': 'phi_{}'.format(i), 'mean': phi, 'sigma': np.pi}\n",
    "    for i in range(num_sins)\n",
    "]\n",
    "\n",
    "fll_1 = FrequencyLogNormalLatents(\n",
    "    num_freqs=num_sins,\n",
    "    first_freq_mean=mean_1,\n",
    "    next_freq_ratio=2,\n",
    "    sigma=sigma\n",
    ")\n",
    "fll_2 = FrequencyLogNormalLatents(\n",
    "    num_freqs=num_sins,\n",
    "    first_freq_mean=mean_2,\n",
    "    next_freq_ratio=2,\n",
    "    sigma=sigma\n",
    ")\n",
    "phi_l = IndependentNormalLatents().set_nodes(var_list=phi_list)\n",
    "\n",
    "\n",
    "l_1 = fll_1.sample(sample_size=int(sample_size/2))\n",
    "l_2 = fll_2.sample(sample_size=int(sample_size/2))\n",
    "phi_1 = phi_l.sample(sample_size=int(sample_size/2))\n",
    "phi_2 = phi_l.sample(sample_size=int(sample_size/2))\n",
    "\n",
    "l_1 = pd.concat([l_1, phi_1], axis=1)\n",
    "l_2 = pd.concat([l_2, phi_2], axis=1)\n",
    "\n",
    "fs_1 = FourierSeries(sampled_latents=l_1, amplitude_exp_decay_rate=1)\n",
    "s_1 = fs_1.sample(seq_len=seq_len)\n",
    "\n",
    "fs_2 = FourierSeries(sampled_latents=l_2, amplitude_exp_decay_rate=1)\n",
    "s_2 = fs_2.sample(seq_len=seq_len)\n",
    "\n",
    "y_1 = np.zeros(shape=(int(sample_size/2),))\n",
    "y_2 = np.ones(shape=(int(sample_size/2),))\n",
    "\n",
    "signals = np.concatenate([s_1, s_2])\n",
    "y = np.concatenate([y_1, y_2])\n",
    "\n",
    "for i in range(3):\n",
    "    plt.plot(np.arange(seq_len), s_1[i+30], c='orange')\n",
    "    plt.plot(np.arange(seq_len), s_2[i+30], c='blue')\n",
    "plt.show()"
   ]
  },
  {
   "cell_type": "markdown",
   "metadata": {
    "pycharm": {
     "name": "#%% md\n"
    }
   },
   "source": [
    "### make labels according to the presence of a shapelet\n",
    "\n",
    "Another way to make labels is to label the signals as class 1, if a shapelet exists in the signal, and 0 otherwise. A special case is if the shapelet exists at the end of the signal.\n",
    "\n",
    "Let `D` be the sub-sequence of the same length at the end of all signals. We calculate the pairwise DTW distance among all Ds. We then can do clustering with `K=2` and take two centroids as the references, but there is an easier way: we take the sample number $i$ such that $i = \\arg \\min_i \\mu_\\text{DTW}$ where $\\mu_\\text{DTW}$ is the row-wise mean of the distance matrix. This way we find a sample which has the most \"similar\" sub-sequences. We take that as a reference shapelet for the class 0, and calculate a success probability proportional to the distance of other sub-sequences to this reference shapelet.\n",
    "\n",
    "This can be done via `ShapeletDTWLabelMaker` class. The options are:\n",
    "- `window_ratio` determines the window size of the shapelet relative to the total sequence length.\n",
    "- `fast_approximation` Calculation of distance matrix becomes really slow as the number of samples grow. if this option is set to `True` then a subset of the samples are randomly selected for determining the reference shapelet. see the next option\n",
    "- `sub_population`, if `fast_approx=True`, then this determines the number of samples which are considered in selecting the reference shapelet."
   ]
  },
  {
   "cell_type": "code",
   "execution_count": 13,
   "metadata": {
    "pycharm": {
     "name": "#%%\n"
    }
   },
   "outputs": [],
   "source": [
    "from rad_sim.sem.basic import ShapeletDTWLabelMaker\n",
    "\n",
    "# LATENTS\n",
    "sample_size = 500\n",
    "latents = iul.sample(sample_size=sample_size)\n",
    "\n",
    "# FS\n",
    "fs = FourierSeries(\n",
    "    sampled_latents=latents,\n",
    "    amplitude_exp_decay_rate=0.05,\n",
    "    added_noise_sigma_ratio=0.1\n",
    ")\n",
    "signals = fs.sample(seq_len=seq_len)\n",
    "\n",
    "# LABELS\n",
    "\n",
    "lm = ShapeletDTWLabelMaker(window_ratio=0.2, fast_approximation=False, parallel=True)\n",
    "y = lm.make_label(signals)"
   ]
  },
  {
   "cell_type": "markdown",
   "metadata": {
    "pycharm": {
     "name": "#%% md\n"
    }
   },
   "source": [
    "To sanity-check the result, we take a look at the reference shapelet, the closest and the furthest signal to it (excluding the reference signal itself)"
   ]
  },
  {
   "cell_type": "code",
   "execution_count": 14,
   "metadata": {
    "pycharm": {
     "name": "#%%\n"
    }
   },
   "outputs": [
    {
     "data": {
      "image/png": "[encoded data removed]",
      "text/plain": [
       "<Figure size 432x288 with 1 Axes>"
      ]
     },
     "metadata": {
      "needs_background": "light"
     },
     "output_type": "display_data"
    }
   ],
   "source": [
    "ref = lm.ref_shapelet\n",
    "# we take the second index in argsort, as the first index is the reference signal itself\n",
    "closest_idx = lm.success_probs.argsort()[1]\n",
    "furthest_idx = lm.success_probs.argmax()\n",
    "\n",
    "win_len = len(ref)\n",
    "plt.plot(np.arange(seq_len - win_len, seq_len), ref, label='ref')\n",
    "plt.plot(np.arange(seq_len), signals[closest_idx], label='closest', alpha=0.3)\n",
    "plt.plot(np.arange(seq_len), signals[furthest_idx], label='furthest', alpha=0.3)\n",
    "plt.legend()\n",
    "plt.show()"
   ]
  },
  {
   "cell_type": "markdown",
   "metadata": {
    "pycharm": {
     "name": "#%% md\n"
    }
   },
   "source": [
    "## Write the simulator for torch lightning:\n",
    "\n",
    "let's look at the dummy dataset code:"
   ]
  },
  {
   "cell_type": "code",
   "execution_count": 5,
   "metadata": {
    "pycharm": {
     "name": "#%%\n"
    }
   },
   "outputs": [],
   "source": [
    "from scipy.special import expit\n",
    "import numpy as np\n",
    "\n",
    "\n",
    "class DummySimulator:\n",
    "    def __init__(self, slope_sigma=0.3, intercept_sigma=0.01, noise_sigma=0):\n",
    "        self.slope_sigma = slope_sigma\n",
    "        self.intercept_sigma = intercept_sigma\n",
    "        self.noise_sigma = noise_sigma\n",
    "    \n",
    "    def sample(self, sample_size=None, time_points=None):\n",
    "        # sample params\n",
    "        slope = np.random.normal(0, self.slope_sigma, size=sample_size)\n",
    "        intercept = np.random.uniform(0, self.intercept_sigma, size=sample_size)\n",
    "\n",
    "        # make X\n",
    "        x = np.array([\n",
    "            (slope * t + intercept) +\n",
    "            np.random.normal(0, self.noise_sigma)\n",
    "            for t in range(time_points)\n",
    "        ]).transpose()\n",
    "\n",
    "        # make Y = f(slope)\n",
    "        bernoulli_prob = expit(slope*20)\n",
    "        y = np.array([\n",
    "            np.random.choice([0, 1], p=[prob, 1 - prob]) for prob in bernoulli_prob\n",
    "        ])\n",
    "        return x, y"
   ]
  },
  {
   "cell_type": "code",
   "execution_count": 8,
   "metadata": {
    "pycharm": {
     "name": "#%%\n"
    }
   },
   "outputs": [
    {
     "data": {
      "text/plain": [
       "(3,)"
      ]
     },
     "execution_count": 8,
     "metadata": {},
     "output_type": "execute_result"
    }
   ],
   "source": [
    "ds = DummySimulator()\n",
    "x, y = ds.sample(sample_size=3, time_points=10)\n",
    "y.shape"
   ]
  },
  {
   "cell_type": "code",
   "execution_count": 18,
   "metadata": {
    "pycharm": {
     "name": "#%%\n"
    }
   },
   "outputs": [
    {
     "data": {
      "text/plain": [
       "(array([[ 0.00397301,  0.07628257],\n",
       "        [ 0.00566322,  0.33446528],\n",
       "        [ 0.00668419, -0.01993632],\n",
       "        [ 0.00954364,  0.53024625],\n",
       "        [ 0.00620413,  0.16285328],\n",
       "        [ 0.00647076,  0.19756938],\n",
       "        [ 0.00431422,  0.06951255],\n",
       "        [ 0.00404297, -0.66847536],\n",
       "        [ 0.00630594, -0.03826033],\n",
       "        [ 0.00479997,  0.08625473]]),\n",
       " array([1, 0, 1, 0, 0, 0, 1, 1, 0, 0]))"
      ]
     },
     "execution_count": 18,
     "metadata": {},
     "output_type": "execute_result"
    }
   ],
   "source": [
    "dd = DummySimulator()\n",
    "dd.sample(sample_size=10, time_points=2)"
   ]
  },
  {
   "cell_type": "markdown",
   "metadata": {
    "pycharm": {
     "name": "#%% md\n"
    }
   },
   "source": [
    "we can replace it with any configuration of `rad_sim` classes:"
   ]
  },
  {
   "cell_type": "code",
   "execution_count": null,
   "metadata": {
    "pycharm": {
     "name": "#%%\n"
    }
   },
   "outputs": [],
   "source": [
    "class FS_DTW:\n",
    "    def __init__(num_sin=10,\n",
    "                 two_class_means=[3np.pi/20, np.pi/20],\n",
    "                 frequency_sigmas=np.pi/20\n",
    "                 amplitude_exp_decay_rate=0.5,\n",
    "                 added_noise_sigma_ratio=0.0,\n",
    "                 dtw_window_ratio=0.2):\n",
    "        "
   ]
  },
  {
   "cell_type": "code",
   "execution_count": 6,
   "metadata": {
    "pycharm": {
     "name": "#%%\n"
    }
   },
   "outputs": [],
   "source": [
    "# append to times series\n",
    "from rad_sim.simulators.temporal.stochastic_processes import BrownianMotion\n",
    "from rad_sim.sem.basic import IndependentUniformLatents\n",
    "\n",
    "inl = IndependentUniformLatents()\n",
    "inl.set_nodes(\n",
    "    var_list=[{'name': 'drift', 'low': -1, 'high': 1}]\n",
    ")\n",
    "l = inl.sample(sample_size=10)\n",
    "l['scale'] = 1.7\n",
    "l['init'] = 0\n",
    "\n",
    "bm = BrownianMotion(\n",
    "    sampled_latents=l,\n",
    "    geometric=False\n",
    ")\n",
    "seq_len = 100\n",
    "signals = bm.sample(seq_len=seq_len)"
   ]
  },
  {
   "cell_type": "code",
   "execution_count": 7,
   "metadata": {
    "pycharm": {
     "name": "#%%\n"
    }
   },
   "outputs": [],
   "source": [
    "from rad_sim.sem.basic import ShapeletPlacementLabelMaker\n",
    "\n",
    "lm = ShapeletPlacementLabelMaker()\n",
    "labels = lm.make_label(signals=signals)"
   ]
  },
  {
   "cell_type": "code",
   "execution_count": 8,
   "metadata": {
    "pycharm": {
     "name": "#%%\n"
    }
   },
   "outputs": [
    {
     "data": {
      "text/plain": [
       "array([1., 1., 0., 0., 1., 1., 0., 0., 0., 1.])"
      ]
     },
     "execution_count": 8,
     "metadata": {},
     "output_type": "execute_result"
    }
   ],
   "source": [
    "labels"
   ]
  },
  {
   "cell_type": "code",
   "execution_count": 17,
   "metadata": {
    "pycharm": {
     "name": "#%%\n"
    }
   },
   "outputs": [
    {
     "data": {
      "image/png": "[encoded data removed]",
      "text/plain": [
       "<Figure size 432x288 with 1 Axes>"
      ]
     },
     "metadata": {
      "needs_background": "light"
     },
     "output_type": "display_data"
    }
   ],
   "source": [
    "from matplotlib import pyplot as plt\n",
    "\n",
    "idx = lm.shapelet_placement_idx[0]\n",
    "plt.plot(range(seq_len), signals[0])\n",
    "plt.plot(range(int(idx), int(idx+lm.shap_len)), lm.shapelet+5)\n",
    "plt.show()"
   ]
  }
 ],
 "metadata": {
  "kernelspec": {
   "display_name": "Python 3 (ipykernel)",
   "language": "python",
   "name": "python3"
  },
  "language_info": {
   "codemirror_mode": {
    "name": "ipython",
    "version": 3
   },
   "file_extension": ".py",
   "mimetype": "text/x-python",
   "name": "python",
   "nbconvert_exporter": "python",
   "pygments_lexer": "ipython3",
   "version": "3.8.10"
  }
 },
 "nbformat": 4,
 "nbformat_minor": 4
}