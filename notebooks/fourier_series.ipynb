{
 "cells": [
  {
   "cell_type": "code",
   "execution_count": 1,
   "metadata": {},
   "outputs": [],
   "source": [
    "%load_ext autoreload\n",
    "%autoreload 2"
   ]
  },
  {
   "cell_type": "code",
   "execution_count": 45,
   "metadata": {},
   "outputs": [],
   "source": [
    "import numpy as np\n",
    "from matplotlib import pyplot as plt\n",
    "\n",
    "np.random.seed(2)"
   ]
  },
  {
   "cell_type": "markdown",
   "metadata": {},
   "source": [
    "## Making Timeseries\n",
    "\n",
    "To simulate Fourier Series (FS), we need two parts: a latent simulator to simulate FS latent variables, and the FS simulator\n",
    "\n",
    "SEM simulation will be used in the future, but for now, two simple simulators are availeble: uniform and normal independent variables. Below, we use \"uniform\""
   ]
  },
  {
   "cell_type": "code",
   "execution_count": 36,
   "metadata": {},
   "outputs": [],
   "source": [
    "from rad_sim.sem.basic import IndependentUniformLatents\n",
    "\n",
    "iul = IndependentUniformLatents()"
   ]
  },
  {
   "cell_type": "markdown",
   "metadata": {},
   "source": [
    "we want to simulate FS with 10 sine waves with sequence length 300. so we need 10 frequency (`w_0, ..., w_9`) + 10 phase shifts (`phi_0, ..., phi_9`). Sequence length will be used to give a threshold for frequency."
   ]
  },
  {
   "cell_type": "code",
   "execution_count": 37,
   "metadata": {},
   "outputs": [
    {
     "data": {
      "text/plain": [
       "<rad_sim.sem.basic.IndependentUniformLatents at 0x7f93c75e5ca0>"
      ]
     },
     "execution_count": 37,
     "metadata": {},
     "output_type": "execute_result"
    }
   ],
   "source": [
    "import numpy as np\n",
    "\n",
    "seq_len = 300\n",
    "num_sins = 10\n",
    "\n",
    "frequency_range = [np.pi/seq_len, np.pi/20]\n",
    "phaseshift_range = [-np.pi/4, np.pi/4]\n",
    "\n",
    "var_list = [\n",
    "    {'name': 'w_{}'.format(i), 'low': frequency_range[0], 'high': frequency_range[1]}\n",
    "    for i in range(num_sins)\n",
    "] + [\n",
    "    {'name': 'phi_{}'.format(i), 'low': phaseshift_range[0], 'high': phaseshift_range[1]}\n",
    "    for i in range(num_sins)\n",
    "]\n",
    "\n",
    "iul.set_nodes(var_list=var_list)"
   ]
  },
  {
   "cell_type": "markdown",
   "metadata": {},
   "source": [
    "simulate for 800 samples"
   ]
  },
  {
   "cell_type": "code",
   "execution_count": 38,
   "metadata": {
    "scrolled": true
   },
   "outputs": [
    {
     "data": {
      "text/html": [
       "<div>\n",
       "<style scoped>\n",
       "    .dataframe tbody tr th:only-of-type {\n",
       "        vertical-align: middle;\n",
       "    }\n",
       "\n",
       "    .dataframe tbody tr th {\n",
       "        vertical-align: top;\n",
       "    }\n",
       "\n",
       "    .dataframe thead th {\n",
       "        text-align: right;\n",
       "    }\n",
       "</style>\n",
       "<table border=\"1\" class=\"dataframe\">\n",
       "  <thead>\n",
       "    <tr style=\"text-align: right;\">\n",
       "      <th></th>\n",
       "      <th>w_0</th>\n",
       "      <th>w_1</th>\n",
       "      <th>w_2</th>\n",
       "      <th>w_3</th>\n",
       "      <th>w_4</th>\n",
       "      <th>w_5</th>\n",
       "      <th>w_6</th>\n",
       "      <th>w_7</th>\n",
       "      <th>w_8</th>\n",
       "      <th>w_9</th>\n",
       "      <th>phi_0</th>\n",
       "      <th>phi_1</th>\n",
       "      <th>phi_2</th>\n",
       "      <th>phi_3</th>\n",
       "      <th>phi_4</th>\n",
       "      <th>phi_5</th>\n",
       "      <th>phi_6</th>\n",
       "      <th>phi_7</th>\n",
       "      <th>phi_8</th>\n",
       "      <th>phi_9</th>\n",
       "    </tr>\n",
       "  </thead>\n",
       "  <tbody>\n",
       "    <tr>\n",
       "      <th>0</th>\n",
       "      <td>0.071611</td>\n",
       "      <td>0.140716</td>\n",
       "      <td>0.010623</td>\n",
       "      <td>0.146187</td>\n",
       "      <td>0.042803</td>\n",
       "      <td>0.063082</td>\n",
       "      <td>0.045529</td>\n",
       "      <td>0.088921</td>\n",
       "      <td>0.112639</td>\n",
       "      <td>0.131919</td>\n",
       "      <td>-0.212586</td>\n",
       "      <td>-0.009103</td>\n",
       "      <td>0.382877</td>\n",
       "      <td>0.115041</td>\n",
       "      <td>0.380731</td>\n",
       "      <td>-0.717880</td>\n",
       "      <td>-0.296876</td>\n",
       "      <td>0.580887</td>\n",
       "      <td>-0.703612</td>\n",
       "      <td>-0.412477</td>\n",
       "    </tr>\n",
       "    <tr>\n",
       "      <th>1</th>\n",
       "      <td>0.116077</td>\n",
       "      <td>0.037504</td>\n",
       "      <td>0.080270</td>\n",
       "      <td>0.069930</td>\n",
       "      <td>0.064305</td>\n",
       "      <td>0.106317</td>\n",
       "      <td>0.087510</td>\n",
       "      <td>0.109658</td>\n",
       "      <td>0.069698</td>\n",
       "      <td>0.108992</td>\n",
       "      <td>0.271354</td>\n",
       "      <td>0.065234</td>\n",
       "      <td>-0.268819</td>\n",
       "      <td>0.113126</td>\n",
       "      <td>-0.632636</td>\n",
       "      <td>0.126301</td>\n",
       "      <td>-0.615036</td>\n",
       "      <td>0.051110</td>\n",
       "      <td>-0.701778</td>\n",
       "      <td>-0.781720</td>\n",
       "    </tr>\n",
       "    <tr>\n",
       "      <th>2</th>\n",
       "      <td>0.010489</td>\n",
       "      <td>0.096289</td>\n",
       "      <td>0.106799</td>\n",
       "      <td>0.021472</td>\n",
       "      <td>0.064253</td>\n",
       "      <td>0.093539</td>\n",
       "      <td>0.029624</td>\n",
       "      <td>0.125593</td>\n",
       "      <td>0.061758</td>\n",
       "      <td>0.049662</td>\n",
       "      <td>0.083372</td>\n",
       "      <td>0.027534</td>\n",
       "      <td>-0.427389</td>\n",
       "      <td>-0.396181</td>\n",
       "      <td>-0.073797</td>\n",
       "      <td>-0.580834</td>\n",
       "      <td>-0.126059</td>\n",
       "      <td>-0.526649</td>\n",
       "      <td>0.011031</td>\n",
       "      <td>0.529205</td>\n",
       "    </tr>\n",
       "    <tr>\n",
       "      <th>3</th>\n",
       "      <td>0.054796</td>\n",
       "      <td>0.142156</td>\n",
       "      <td>0.134110</td>\n",
       "      <td>0.136753</td>\n",
       "      <td>0.024712</td>\n",
       "      <td>0.015472</td>\n",
       "      <td>0.052921</td>\n",
       "      <td>0.048750</td>\n",
       "      <td>0.029966</td>\n",
       "      <td>0.030010</td>\n",
       "      <td>-0.147003</td>\n",
       "      <td>-0.555760</td>\n",
       "      <td>0.636733</td>\n",
       "      <td>0.331019</td>\n",
       "      <td>-0.582252</td>\n",
       "      <td>-0.371354</td>\n",
       "      <td>0.666639</td>\n",
       "      <td>-0.513415</td>\n",
       "      <td>-0.655497</td>\n",
       "      <td>0.138699</td>\n",
       "    </tr>\n",
       "    <tr>\n",
       "      <th>4</th>\n",
       "      <td>0.031988</td>\n",
       "      <td>0.075876</td>\n",
       "      <td>0.037410</td>\n",
       "      <td>0.086605</td>\n",
       "      <td>0.059001</td>\n",
       "      <td>0.145453</td>\n",
       "      <td>0.069192</td>\n",
       "      <td>0.050886</td>\n",
       "      <td>0.013391</td>\n",
       "      <td>0.059433</td>\n",
       "      <td>-0.160286</td>\n",
       "      <td>-0.220940</td>\n",
       "      <td>-0.131485</td>\n",
       "      <td>-0.277477</td>\n",
       "      <td>0.167020</td>\n",
       "      <td>0.332116</td>\n",
       "      <td>0.159501</td>\n",
       "      <td>-0.741589</td>\n",
       "      <td>0.308878</td>\n",
       "      <td>0.556432</td>\n",
       "    </tr>\n",
       "  </tbody>\n",
       "</table>\n",
       "</div>"
      ],
      "text/plain": [
       "        w_0       w_1       w_2       w_3       w_4       w_5       w_6  \\\n",
       "0  0.071611  0.140716  0.010623  0.146187  0.042803  0.063082  0.045529   \n",
       "1  0.116077  0.037504  0.080270  0.069930  0.064305  0.106317  0.087510   \n",
       "2  0.010489  0.096289  0.106799  0.021472  0.064253  0.093539  0.029624   \n",
       "3  0.054796  0.142156  0.134110  0.136753  0.024712  0.015472  0.052921   \n",
       "4  0.031988  0.075876  0.037410  0.086605  0.059001  0.145453  0.069192   \n",
       "\n",
       "        w_7       w_8       w_9     phi_0     phi_1     phi_2     phi_3  \\\n",
       "0  0.088921  0.112639  0.131919 -0.212586 -0.009103  0.382877  0.115041   \n",
       "1  0.109658  0.069698  0.108992  0.271354  0.065234 -0.268819  0.113126   \n",
       "2  0.125593  0.061758  0.049662  0.083372  0.027534 -0.427389 -0.396181   \n",
       "3  0.048750  0.029966  0.030010 -0.147003 -0.555760  0.636733  0.331019   \n",
       "4  0.050886  0.013391  0.059433 -0.160286 -0.220940 -0.131485 -0.277477   \n",
       "\n",
       "      phi_4     phi_5     phi_6     phi_7     phi_8     phi_9  \n",
       "0  0.380731 -0.717880 -0.296876  0.580887 -0.703612 -0.412477  \n",
       "1 -0.632636  0.126301 -0.615036  0.051110 -0.701778 -0.781720  \n",
       "2 -0.073797 -0.580834 -0.126059 -0.526649  0.011031  0.529205  \n",
       "3 -0.582252 -0.371354  0.666639 -0.513415 -0.655497  0.138699  \n",
       "4  0.167020  0.332116  0.159501 -0.741589  0.308878  0.556432  "
      ]
     },
     "execution_count": 38,
     "metadata": {},
     "output_type": "execute_result"
    }
   ],
   "source": [
    "sample_size = 800\n",
    "\n",
    "latents = iul.sample(sample_size=sample_size)\n",
    "\n",
    "latents.head()"
   ]
  },
  {
   "cell_type": "markdown",
   "metadata": {},
   "source": [
    "simulating FS series: frequencies `w_0` to `w_p`, in that order, are considered as dominant frequencies such that the most dominant frequency is `w_0`. we set the amplitude for the most dominant frequenct (`dominant_amplitude`), for the next ones, we set $a_i = \\exp{(-di)}$ as the amplitude for `w_i` where `d` is an exponential decay. For example if `decay=0`, all the amplitudes are `1`. if `decay=1`, the amplitudes will be `[1, 0.36, ...]`.\n",
    "\n",
    "We also consider an added gaussian noise. the `added_noise_sigma_ratio` defines the added noise scale as `scale = ratio * dominant amplitude`. Set to 0 to have no added noise"
   ]
  },
  {
   "cell_type": "code",
   "execution_count": 39,
   "metadata": {},
   "outputs": [],
   "source": [
    "from rad_sim.simulators.temporal.deterministic import FourierSeries\n",
    "\n",
    "# Fourier config\n",
    "DECAY = 0.3\n",
    "AMP = 1\n",
    "SIGMA_RATIO = 0.1\n",
    "\n",
    "# === SAMPLE FOURIER SERIES ===\n",
    "fs = FourierSeries(\n",
    "    sampled_latents=latents,\n",
    "    dominant_amplitude=AMP,\n",
    "    amplitude_exp_decay_rate=DECAY,\n",
    "    frequency_prefix='w',\n",
    "    phaseshift_prefix='phi',\n",
    "    added_noise_sigma_ratio=SIGMA_RATIO\n",
    ")\n",
    "signals = fs.sample(seq_len=seq_len)"
   ]
  },
  {
   "cell_type": "markdown",
   "metadata": {},
   "source": [
    "visualizing 2 signals as an example"
   ]
  },
  {
   "cell_type": "code",
   "execution_count": 40,
   "metadata": {},
   "outputs": [
    {
     "data": {
      "image/png": "[encoded data removed]",
      "text/plain": [
       "<Figure size 432x288 with 1 Axes>"
      ]
     },
     "metadata": {
      "needs_background": "light"
     },
     "output_type": "display_data"
    }
   ],
   "source": [
    "plt.plot(np.arange(seq_len), signals[2])\n",
    "plt.plot(np.arange(seq_len), signals[3])\n",
    "plt.show()"
   ]
  },
  {
   "cell_type": "markdown",
   "metadata": {},
   "source": [
    "## Labeling Signals\n",
    "\n",
    "### Labeling according to Latents\n",
    "\n",
    "One way is to make the labels according to the latent variables. This can be done in two ways:\n",
    "\n",
    "1. make $y = f(L)$ where L is the latent vector. Say $f(.)$ is a logistic model\n",
    "2. sample for latents from two different distributions, while each distribution represents a class\n",
    "\n",
    "#### Logistic model from latents\n",
    "\n",
    "This can be done by the class `LatentLabelMaker`. In this case, a coefficient vector with the size of the latent vector is sampled uniformly, and the success probabilities to be used in a Bernoulli sampler will be calculated accordingly.\n",
    "\n",
    "- `coef_min` and `coef_max` determine low and high of the coefficient values\n",
    "- `normalize_latent` determines whether the sampled latent matrix will be normalized before the process\n",
    "- `sigmoid_offset` adds an offset to the output of the linear model before being fed to sigmoid function. adding positive or negative values will increase or decrease the expected value of the label respectively\n",
    "\n",
    "In the code below, we use the first 2 dominant frequencies to determine the labels"
   ]
  },
  {
   "cell_type": "code",
   "execution_count": 41,
   "metadata": {},
   "outputs": [
    {
     "data": {
      "text/plain": [
       "0.5425"
      ]
     },
     "execution_count": 41,
     "metadata": {},
     "output_type": "execute_result"
    }
   ],
   "source": [
    "from rad_sim.sem.basic import LatentLabelMaker\n",
    "\n",
    "lm = LatentLabelMaker(coef_min=1, coef_max=5, normalize_latent=True, sigmoid_offset=0)\n",
    "y = lm.make_label(sampled_latents=latents[['w_0', 'w_1']].values)\n",
    "\n",
    "y.mean()"
   ]
  },
  {
   "cell_type": "markdown",
   "metadata": {},
   "source": [
    "#### make FS from two latent distributions\n",
    "\n",
    "The process is:\n",
    "- select two latent distributions, e.g. normals with different means\n",
    "- sample FS for the realizations of both distributions\n",
    "- label the samples according to the distribution"
   ]
  },
  {
   "cell_type": "code",
   "execution_count": 42,
   "metadata": {},
   "outputs": [],
   "source": [
    "from rad_sim.sem.basic import IndependentNormalLatents\n",
    "\n",
    "mean_1 = 2*np.pi/30\n",
    "mean_2 = 2*np.pi/80\n",
    "sigma = 2*np.pi/100\n",
    "phi = 0\n",
    "\n",
    "var_list_1 = [\n",
    "    {'name': 'w_{}'.format(i), 'mean': mean_1, 'sigma': sigma}\n",
    "    for i in range(num_sins)\n",
    "] + [\n",
    "    {'name': 'phi_{}'.format(i), 'mean': phi, 'sigma': np.pi/10}\n",
    "    for i in range(num_sins)\n",
    "]\n",
    "\n",
    "var_list_2 = [\n",
    "    {'name': 'w_{}'.format(i), 'mean': mean_2, 'sigma': sigma}\n",
    "    for i in range(num_sins)\n",
    "] + [\n",
    "    {'name': 'phi_{}'.format(i), 'mean': phi, 'sigma': np.pi/10}\n",
    "    for i in range(num_sins)\n",
    "]\n",
    "\n",
    "inl_1 = IndependentNormalLatents()\n",
    "inl_1.set_nodes(var_list=var_list_1)\n",
    "l_1 = inl_1.sample(sample_size=int(sample_size/2))\n",
    "\n",
    "inl_2 = IndependentNormalLatents()\n",
    "inl_2.set_nodes(var_list=var_list_2)\n",
    "l_2 = inl_2.sample(sample_size=int(sample_size/2))\n",
    "\n",
    "fs_1 = FourierSeries(sampled_latents=l_1)\n",
    "s_1 = fs_1.sample(seq_len=seq_len)\n",
    "\n",
    "fs_2 = FourierSeries(sampled_latents=l_2)\n",
    "s_2 = fs_2.sample(seq_len=seq_len)\n",
    "\n",
    "y_1 = np.zeros(shape=(int(sample_size/2),))\n",
    "y_2 = np.ones(shape=(int(sample_size/2),))\n",
    "\n",
    "signals = np.concatenate([s_1, s_2])\n",
    "y = np.concatenate([y_1, y_2])"
   ]
  },
  {
   "cell_type": "markdown",
   "metadata": {},
   "source": [
    "### make labels according to the presence of a shapelet\n",
    "\n",
    "Another way to make labels is to label the signals as class 1, if a shapelet exists in the signal, and 0 otherwise. A special case is if the shapelet exists at the end of the signal.\n",
    "\n",
    "Let `D` be the sub-sequence of the same length at the end of all signals. We calculate the pairwise DTW distance among all Ds. We then can do clustering with `K=2` and take two centroids as the references, but there is an easier way: we take the sample number $i$ such that $i = \\arg \\min_i \\mu_\\text{DTW}$ where $\\mu_\\text{DTW}$ is the row-wise mean of the distance matrix. This way we find a sample which has the most \"similar\" sub-sequences. We take that as a reference shapelet for the class 0, and calculate a success probability proportional to the distance of other sub-sequences to this reference shapelet.\n",
    "\n",
    "This can be done via `ShapeletDTWLabelMaker` class. The options are:\n",
    "- `window_ratio` determines the window size of the shapelet relative to the total sequence length.\n",
    "- `fast_approximation` Calculation of distance matrix becomes really slow as the number of samples grow. if this option is set to `True` then a subset of the samples are randomly selected for determining the reference shapelet. see the next option\n",
    "- `sub_population`, if `fast_approx=True`, then this determines the number of samples which are considered in selecting the reference shapelet."
   ]
  },
  {
   "cell_type": "code",
   "execution_count": 46,
   "metadata": {},
   "outputs": [],
   "source": [
    "# LATENTS\n",
    "sample_size = 500\n",
    "latents = iul.sample(sample_size=sample_size)\n",
    "\n",
    "# FS\n",
    "fs = FourierSeries(\n",
    "    sampled_latents=latents,\n",
    "    amplitude_exp_decay_rate=0.05,\n",
    "    added_noise_sigma_ratio=0.1\n",
    ")\n",
    "signals = fs.sample(seq_len=seq_len)\n",
    "\n",
    "# LABELS\n",
    "\n",
    "lm = ShapeletDTWLabelMaker(window_ratio=0.2, fast_approximation=False, parallel=True)\n",
    "y = lm.make_label(signals)"
   ]
  },
  {
   "cell_type": "markdown",
   "metadata": {},
   "source": [
    "To sanity-check the result, we take a look at the reference shapelet, the closest and the furthest signal to it (excluding the reference signal itself)"
   ]
  },
  {
   "cell_type": "code",
   "execution_count": 47,
   "metadata": {},
   "outputs": [
    {
     "data": {
      "image/png": "[encoded data removed]",
      "text/plain": [
       "<Figure size 432x288 with 1 Axes>"
      ]
     },
     "metadata": {
      "needs_background": "light"
     },
     "output_type": "display_data"
    }
   ],
   "source": [
    "ref = lm.ref_shapelet\n",
    "# we take the second index in argsort, as the first index is the reference signal itself\n",
    "closest_idx = lm.success_probs.argsort()[1]\n",
    "furthest_idx = lm.success_probs.argmax()\n",
    "\n",
    "win_len = len(ref)\n",
    "plt.plot(np.arange(seq_len - win_len, seq_len), ref, label='ref')\n",
    "plt.plot(np.arange(seq_len), signals[closest_idx], label='closest', alpha=0.3)\n",
    "plt.plot(np.arange(seq_len), signals[furthest_idx], label='furthest', alpha=0.3)\n",
    "plt.legend()\n",
    "plt.show()"
   ]
  }
 ],
 "metadata": {
  "kernelspec": {
   "display_name": "Python 3 (ipykernel)",
   "language": "python",
   "name": "python3"
  },
  "language_info": {
   "codemirror_mode": {
    "name": "ipython",
    "version": 3
   },
   "file_extension": ".py",
   "mimetype": "text/x-python",
   "name": "python",
   "nbconvert_exporter": "python",
   "pygments_lexer": "ipython3",
   "version": "3.8.10"
  }
 },
 "nbformat": 4,
 "nbformat_minor": 4
}
