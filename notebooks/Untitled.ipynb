{
 "cells": [
  {
   "cell_type": "code",
   "execution_count": 1,
   "id": "d80ad095",
   "metadata": {},
   "outputs": [],
   "source": [
    "%load_ext autoreload\n",
    "%autoreload 2"
   ]
  },
  {
   "cell_type": "code",
   "execution_count": 26,
   "id": "824af450",
   "metadata": {},
   "outputs": [],
   "source": [
    "import numpy as np\n",
    "import pandas as pd\n",
    "from rad_sim.scm.graph_objects import Node\n",
    "\n",
    "data = pd.DataFrame([])\n",
    "\n",
    "n1 = Node(\n",
    "    name='N1',\n",
    "    parents=[],\n",
    "    output_distribution='gaussian',\n",
    "    dist_configs={\n",
    "        'do_correction': False\n",
    "    },\n",
    "    dist_params_coefs={\n",
    "        'mu_': {\n",
    "            'bias': 2,\n",
    "            'linear': np.array([]),\n",
    "            'poly2': np.array([]),\n",
    "            'interactions': np.array([]),\n",
    "        },\n",
    "        'sigma_': {\n",
    "            'bias': 1,\n",
    "            'linear': np.array([]),\n",
    "            'poly2': np.array([]),\n",
    "            'interactions': np.array([]),\n",
    "        }\n",
    "    }\n",
    ")\n",
    "\n",
    "data['N1'] = n1.sample(data, 1000)"
   ]
  },
  {
   "cell_type": "code",
   "execution_count": 27,
   "id": "8cfce89b",
   "metadata": {},
   "outputs": [
    {
     "data": {
      "text/html": [
       "<div>\n",
       "<style scoped>\n",
       "    .dataframe tbody tr th:only-of-type {\n",
       "        vertical-align: middle;\n",
       "    }\n",
       "\n",
       "    .dataframe tbody tr th {\n",
       "        vertical-align: top;\n",
       "    }\n",
       "\n",
       "    .dataframe thead th {\n",
       "        text-align: right;\n",
       "    }\n",
       "</style>\n",
       "<table border=\"1\" class=\"dataframe\">\n",
       "  <thead>\n",
       "    <tr style=\"text-align: right;\">\n",
       "      <th></th>\n",
       "      <th>N1</th>\n",
       "    </tr>\n",
       "  </thead>\n",
       "  <tbody>\n",
       "    <tr>\n",
       "      <th>0</th>\n",
       "      <td>3.471369</td>\n",
       "    </tr>\n",
       "    <tr>\n",
       "      <th>1</th>\n",
       "      <td>1.821891</td>\n",
       "    </tr>\n",
       "    <tr>\n",
       "      <th>2</th>\n",
       "      <td>0.581427</td>\n",
       "    </tr>\n",
       "    <tr>\n",
       "      <th>3</th>\n",
       "      <td>3.807195</td>\n",
       "    </tr>\n",
       "    <tr>\n",
       "      <th>4</th>\n",
       "      <td>3.814621</td>\n",
       "    </tr>\n",
       "    <tr>\n",
       "      <th>...</th>\n",
       "      <td>...</td>\n",
       "    </tr>\n",
       "    <tr>\n",
       "      <th>995</th>\n",
       "      <td>2.019718</td>\n",
       "    </tr>\n",
       "    <tr>\n",
       "      <th>996</th>\n",
       "      <td>1.746324</td>\n",
       "    </tr>\n",
       "    <tr>\n",
       "      <th>997</th>\n",
       "      <td>3.027281</td>\n",
       "    </tr>\n",
       "    <tr>\n",
       "      <th>998</th>\n",
       "      <td>2.118652</td>\n",
       "    </tr>\n",
       "    <tr>\n",
       "      <th>999</th>\n",
       "      <td>2.512843</td>\n",
       "    </tr>\n",
       "  </tbody>\n",
       "</table>\n",
       "<p>1000 rows × 1 columns</p>\n",
       "</div>"
      ],
      "text/plain": [
       "           N1\n",
       "0    3.471369\n",
       "1    1.821891\n",
       "2    0.581427\n",
       "3    3.807195\n",
       "4    3.814621\n",
       "..        ...\n",
       "995  2.019718\n",
       "996  1.746324\n",
       "997  3.027281\n",
       "998  2.118652\n",
       "999  2.512843\n",
       "\n",
       "[1000 rows x 1 columns]"
      ]
     },
     "execution_count": 27,
     "metadata": {},
     "output_type": "execute_result"
    }
   ],
   "source": []
  },
  {
   "cell_type": "code",
   "execution_count": 14,
   "id": "e5656f4a",
   "metadata": {},
   "outputs": [
    {
     "data": {
      "image/png": "[encoded data removed]",
      "text/plain": [
       "<Figure size 432x288 with 1 Axes>"
      ]
     },
     "metadata": {
      "needs_background": "light"
     },
     "output_type": "display_data"
    }
   ],
   "source": [
    "transformed = sigmoid_correction(p, center=False, upper=2)\n",
    "transformed = np.round(transformed, 2)\n",
    "\n",
    "plt.scatter(p, transformed)\n",
    "plt.show()"
   ]
  },
  {
   "cell_type": "code",
   "execution_count": 16,
   "id": "3e669f29",
   "metadata": {},
   "outputs": [
    {
     "data": {
      "image/png": "[encoded data removed]",
      "text/plain": [
       "<Figure size 432x288 with 1 Axes>"
      ]
     },
     "metadata": {
      "needs_background": "light"
     },
     "output_type": "display_data"
    },
    {
     "name": "stdout",
     "output_type": "stream",
     "text": [
      "mean is: 1.04115\n"
     ]
    }
   ],
   "source": [
    "# center\n",
    "transformed = sigmoid_correction(p, center=True, upper=2)\n",
    "transformed = np.round(transformed, 2)\n",
    "\n",
    "plt.scatter(p, transformed)\n",
    "plt.show()\n",
    "print('mean is:', transformed.mean())"
   ]
  },
  {
   "cell_type": "code",
   "execution_count": 17,
   "id": "95a28627",
   "metadata": {},
   "outputs": [
    {
     "data": {
      "image/png": "[encoded data removed]",
      "text/plain": [
       "<Figure size 432x288 with 1 Axes>"
      ]
     },
     "metadata": {
      "needs_background": "light"
     },
     "output_type": "display_data"
    },
    {
     "name": "stdout",
     "output_type": "stream",
     "text": [
      "mean is: 0.8007249999999999\n"
     ]
    }
   ],
   "source": [
    "transformed = sigmoid_correction(\n",
    "    p, center=False, upper=2, average=0.8\n",
    ")\n",
    "transformed = np.round(transformed, 2)\n",
    "\n",
    "plt.scatter(p, transformed)\n",
    "plt.show()\n",
    "print('mean is:', transformed.mean())"
   ]
  },
  {
   "cell_type": "code",
   "execution_count": 124,
   "id": "c6813b92",
   "metadata": {},
   "outputs": [
    {
     "name": "stdout",
     "output_type": "stream",
     "text": [
      "1.3140818323013634\n"
     ]
    }
   ],
   "source": [
    "from rad_sim.scm.utils import SigmoidCorrection\n",
    "\n",
    "x = np.random.normal(9, 10, size=3000)\n",
    "\n",
    "U = 3\n",
    "L = 1\n",
    "\n",
    "corrector = SigmoidCorrection(\n",
    "    lower=L,\n",
    "    upper=U,\n",
    "    to_center=True,\n",
    "    target_mean=1.9\n",
    ")\n",
    "\n",
    "out = corrector.transform(x)\n",
    "\n",
    "print(out.mean())"
   ]
  }
 ],
 "metadata": {
  "kernelspec": {
   "display_name": "Python 3 (ipykernel)",
   "language": "python",
   "name": "python3"
  },
  "language_info": {
   "codemirror_mode": {
    "name": "ipython",
    "version": 3
   },
   "file_extension": ".py",
   "mimetype": "text/x-python",
   "name": "python",
   "nbconvert_exporter": "python",
   "pygments_lexer": "ipython3",
   "version": "3.8.10"
  }
 },
 "nbformat": 4,
 "nbformat_minor": 5
}
