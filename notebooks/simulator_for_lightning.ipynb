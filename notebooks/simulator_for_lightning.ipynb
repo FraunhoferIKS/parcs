{
 "cells": [
  {
   "cell_type": "code",
   "execution_count": 1,
   "id": "b3b7c9c9",
   "metadata": {},
   "outputs": [],
   "source": [
    "%load_ext autoreload\n",
    "%autoreload 2"
   ]
  },
  {
   "cell_type": "markdown",
   "id": "bfd30aa0",
   "metadata": {},
   "source": [
    "# TSN"
   ]
  },
  {
   "cell_type": "markdown",
   "id": "1f94b602",
   "metadata": {},
   "source": [
    "## logistic latent y"
   ]
  },
  {
   "cell_type": "markdown",
   "id": "86e29ae8",
   "metadata": {},
   "source": [
    "you can change the `tsn_latent_type` to normal. then for `tsn_latent_var_list` you need `mean, sigma` instead of `low, high`."
   ]
  },
  {
   "cell_type": "code",
   "execution_count": 2,
   "id": "5cd11ca0",
   "metadata": {},
   "outputs": [],
   "source": [
    "from rad_sim.simulators.temporal.demos import TsnLatentLogisticYSimulator\n",
    "import numpy as np\n",
    "\n",
    "sim = TsnLatentLogisticYSimulator(\n",
    "    tsn_latent_type='uniform',\n",
    "    tsn_latent_var_list=[\n",
    "        {'name': 'slope', 'low': -2, 'high': 2},\n",
    "        {'name': 'intercept', 'low': -3, 'high': 3},\n",
    "        {'name': 'amplitude', 'low': 1, 'high': 5},\n",
    "        {'name': 'frequency', 'low': np.pi/10, 'high': np.pi/4},\n",
    "        {'name': 'phaseshift', 'low': -np.pi/6, 'high': np.pi/6}\n",
    "    ],\n",
    "    tsn_noise_sigma=0,\n",
    "    y_beta_coef_range=[1, 3],\n",
    "    y_sigmoid_offset=0,\n",
    "    latent_subset_for_label=['slope', 'frequency']\n",
    ")\n",
    "\n",
    "x, y = sim.sample(sample_size=20, seq_len=5)"
   ]
  },
  {
   "cell_type": "code",
   "execution_count": 3,
   "id": "39fc283e",
   "metadata": {},
   "outputs": [
    {
     "name": "stdout",
     "output_type": "stream",
     "text": [
      "(20, 5)\n",
      "[0 0 0 1 1 0 1 0 0 1 0 1 1 1 0 0 0 1 0 0]\n"
     ]
    }
   ],
   "source": [
    "print(x.shape)\n",
    "print(y)"
   ]
  },
  {
   "cell_type": "markdown",
   "id": "1170ac86",
   "metadata": {},
   "source": [
    "## 2 distributions latent y"
   ]
  },
  {
   "cell_type": "code",
   "execution_count": 10,
   "id": "884e09c0",
   "metadata": {},
   "outputs": [],
   "source": [
    "from rad_sim.simulators.temporal.demos import TsnLatent2distYSimulator\n",
    "\n",
    "shared_var_list = [\n",
    "    {'name': 'slope', 'mean': 0, 'sigma': 2, 'log': False},\n",
    "    {'name': 'intercept', 'mean': 0, 'sigma': 3, 'log': False},\n",
    "    {'name': 'amplitude', 'mean': 2, 'sigma': 2, 'log': True},\n",
    "    {'name': 'phaseshift', 'mean': 0, 'sigma': np.pi/4, 'log': False}\n",
    "]\n",
    "var_list_0 = shared_var_list.copy()\n",
    "var_list_0.append({'name': 'frequency', 'mean': np.pi/10, 'sigma': np.pi/20, 'log': True})\n",
    "var_list_1 = shared_var_list.copy()\n",
    "var_list_1.append({'name': 'frequency', 'mean': np.pi/5, 'sigma': np.pi/20, 'log': True})\n",
    "\n",
    "sim = TsnLatent2distYSimulator(\n",
    "    tsn_latent_type='normal',\n",
    "    dist_0_var_list=var_list_0,\n",
    "    dist_1_var_list=var_list_1,\n",
    "    tsn_noise_sigma=1,\n",
    "    class_ratio=0.5\n",
    ")\n",
    "\n",
    "x, y = sim.sample(sample_size=10, seq_len=20)"
   ]
  },
  {
   "cell_type": "code",
   "execution_count": 11,
   "id": "d31a7267",
   "metadata": {},
   "outputs": [
    {
     "name": "stdout",
     "output_type": "stream",
     "text": [
      "(10, 20)\n",
      "[0 1 1 0 1 0 1 0 1 0]\n"
     ]
    }
   ],
   "source": [
    "print(x.shape)\n",
    "print(y)"
   ]
  },
  {
   "cell_type": "markdown",
   "id": "9460d08d",
   "metadata": {},
   "source": [
    "## Latent shapelet y"
   ]
  },
  {
   "cell_type": "code",
   "execution_count": 15,
   "id": "2dfd7d5f",
   "metadata": {},
   "outputs": [],
   "source": [
    "from rad_sim.simulators.temporal.demos import TsnShapeletYSimulator\n",
    "\n",
    "sim = TsnShapeletYSimulator(\n",
    "    tsn_latent_type='uniform',\n",
    "    tsn_latent_var_list=[\n",
    "        {'name': 'slope', 'low': -2, 'high': 2},\n",
    "        {'name': 'intercept', 'low': -3, 'high': 3},\n",
    "        {'name': 'amplitude', 'low': 1, 'high': 5},\n",
    "        {'name': 'frequency', 'low': np.pi/10, 'high': np.pi/4},\n",
    "        {'name': 'phaseshift', 'low': -np.pi/6, 'high': np.pi/6}\n",
    "    ],\n",
    "    tsn_noise_sigma=1,\n",
    "    shapelet_window_ratio=0.3,\n",
    "    shapelet_num_sin=5,\n",
    "    shapelet_added_noise=0.1,\n",
    "    class_ratio=0.3\n",
    ")\n",
    "x, y = sim.sample(sample_size=10, seq_len=30)"
   ]
  },
  {
   "cell_type": "code",
   "execution_count": 16,
   "id": "ffbff05e",
   "metadata": {},
   "outputs": [
    {
     "name": "stdout",
     "output_type": "stream",
     "text": [
      "(10, 30)\n",
      "[0 0 1 0 0 1 0 1 0 0]\n"
     ]
    }
   ],
   "source": [
    "print(x.shape)\n",
    "print(y)"
   ]
  },
  {
   "cell_type": "markdown",
   "id": "72fdfb9e",
   "metadata": {},
   "source": [
    "# Fourier Series"
   ]
  },
  {
   "cell_type": "markdown",
   "id": "b0958ae7",
   "metadata": {},
   "source": [
    "## Logistic Latent Y\n",
    "\n",
    "As an example, two distributions are only different in frequency mean and amplitude decay ratio (you can define them as different as you like)"
   ]
  },
  {
   "cell_type": "code",
   "execution_count": null,
   "id": "a3a222a3",
   "metadata": {},
   "outputs": [],
   "source": [
    "from rad_sim.simulators.temporal.demos import FsLogNormalLatent2distYSimulator\n",
    "import numpy as np\n",
    "\n",
    "FREQ_SIGMA = np.pi/20\n",
    "NEXT_FREQ_RATIO = 1.7\n",
    "NUM_SIN = 10\n",
    "\n",
    "\n",
    "sim = FsLogNormalLatent2distYSimulator(\n",
    "    dist_0_frequency_mean=np.pi/10,\n",
    "    dist_1_frequency_mean=np.pi/30,\n",
    "    dist_0_frequency_sigma=FREQ_SIGMA,\n",
    "    dist_1_frequency_sigma=FREQ_SIGMA,\n",
    "    dist_0_next_frequency_ratio=NEXT_FREQ_RATIO,\n",
    "    dist_1_next_frequency_ratio=NEXT_FREQ_RATIO,\n",
    "    fs_phi_latent_type='normal',\n",
    "    # if latent type=normal, then [mean, sigmal], if uniform, then [low, high]\n",
    "    dist_0_phi_config=[0, np.pi/4],\n",
    "    dist_1_phi_config=[0, np.pi/4],\n",
    "    dist_0_num_sin=NUM_SIN,\n",
    "    dist_1_num_sin=NUM_SIN,\n",
    "    dist_0_dominant_amplitude=1,\n",
    "    dist_1_dominant_amplitude=1,\n",
    "    dist_0_amplitude_exp_decay_rate=1,\n",
    "    dist_1_amplitude_exp_decay_rate=1.5,\n",
    "    dist_0_added_noise_sigma_ratio=0,\n",
    "    dist_1_added_noise_sigma_ratio=0,\n",
    "    class_ratio=0.7\n",
    ")\n",
    "x, y = sim.sample(sample_size=10, seq_len=5)"
   ]
  }
 ],
 "metadata": {
  "kernelspec": {
   "display_name": "Python 3 (ipykernel)",
   "language": "python",
   "name": "python3"
  },
  "language_info": {
   "codemirror_mode": {
    "name": "ipython",
    "version": 3
   },
   "file_extension": ".py",
   "mimetype": "text/x-python",
   "name": "python",
   "nbconvert_exporter": "python",
   "pygments_lexer": "ipython3",
   "version": "3.8.10"
  }
 },
 "nbformat": 4,
 "nbformat_minor": 5
}