{
 "cells": [
  {
   "cell_type": "code",
   "execution_count": 12,
   "outputs": [],
   "source": [
    "%load_ext autoreload\n",
    "%autoreload 2"
   ],
   "metadata": {
    "collapsed": false
   }
  },
  {
   "cell_type": "code",
   "execution_count": 17,
   "outputs": [],
   "source": [
    "import pandas as pd\n",
    "\n",
    "\n",
    "df = pd.read_excel(\n",
    "    \"https://archive.ics.uci.edu/ml/machine-learning-databases/concrete/compressive/Concrete_Data.xls\"\n",
    ")\n",
    "last_col = df.columns[-1]\n",
    "y = df[last_col]\n",
    "X_raw = df.drop(columns=[last_col])"
   ],
   "metadata": {
    "collapsed": false
   }
  },
  {
   "cell_type": "code",
   "execution_count": 27,
   "outputs": [
    {
     "name": "stdout",
     "output_type": "stream",
     "text": [
      "0\n",
      "1\n",
      "2\n",
      "3\n",
      "4\n",
      "5\n",
      "6\n",
      "7\n",
      "8\n",
      "9\n"
     ]
    }
   ],
   "source": [
    "from hyperimpute.utils.benchmarks import evaluate_dataset\n",
    "from hyperimpute.plugins.imputers import Imputers\n",
    "\n",
    "iter = 10\n",
    "rmse_hi = []\n",
    "rmse_mf = []\n",
    "for i in range(iter):\n",
    "    print(i)\n",
    "    rmse, distr = evaluate_dataset(\n",
    "        name='test',\n",
    "        evaluated_model=Imputers().get('hyperimpute', optimizer='bayesian'),\n",
    "        X_raw=X_raw,\n",
    "        ref_methods=['missforest'],\n",
    "        scenarios=['MNAR'],\n",
    "        miss_pct=[0.5]\n",
    "    )\n",
    "    rmse_hi.append(rmse['MNAR'][0.5]['our'])\n",
    "    rmse_mf.append(rmse['MNAR'][0.5]['missforest'])"
   ],
   "metadata": {
    "collapsed": false
   }
  },
  {
   "cell_type": "code",
   "execution_count": 28,
   "outputs": [],
   "source": [
    "import json\n",
    "\n",
    "results = {'hyperimpute': rmse_hi, 'missforest': rmse_mf}\n",
    "with open('MNAR.json', 'w') as f:\n",
    "    json.dump(results, f)"
   ],
   "metadata": {
    "collapsed": false
   }
  }
 ],
 "metadata": {
  "kernelspec": {
   "display_name": "Python 3",
   "language": "python",
   "name": "python3"
  },
  "language_info": {
   "codemirror_mode": {
    "name": "ipython",
    "version": 2
   },
   "file_extension": ".py",
   "mimetype": "text/x-python",
   "name": "python",
   "nbconvert_exporter": "python",
   "pygments_lexer": "ipython2",
   "version": "2.7.6"
  }
 },
 "nbformat": 4,
 "nbformat_minor": 0
}
